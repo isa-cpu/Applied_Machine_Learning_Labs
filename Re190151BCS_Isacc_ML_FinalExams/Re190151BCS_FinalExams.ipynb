{
 "cells": [
  {
   "cell_type": "code",
   "execution_count": 1,
   "metadata": {},
   "outputs": [],
   "source": [
    "#importing the necessary library\n",
    "import pandas as pd"
   ]
  },
  {
   "cell_type": "code",
   "execution_count": 2,
   "metadata": {},
   "outputs": [],
   "source": [
    "# loading the train and test dataset\n",
    "path = 'https://raw.githubusercontent.com/subashgandyer/datasets/main/loan_train.csv'"
   ]
  },
  {
   "cell_type": "code",
   "execution_count": 3,
   "metadata": {},
   "outputs": [],
   "source": [
    "# Now reading the data\n",
    "data = pd.read_csv(path)"
   ]
  },
  {
   "cell_type": "code",
   "execution_count": 4,
   "metadata": {},
   "outputs": [
    {
     "data": {
      "text/html": [
       "<div>\n",
       "<style scoped>\n",
       "    .dataframe tbody tr th:only-of-type {\n",
       "        vertical-align: middle;\n",
       "    }\n",
       "\n",
       "    .dataframe tbody tr th {\n",
       "        vertical-align: top;\n",
       "    }\n",
       "\n",
       "    .dataframe thead th {\n",
       "        text-align: right;\n",
       "    }\n",
       "</style>\n",
       "<table border=\"1\" class=\"dataframe\">\n",
       "  <thead>\n",
       "    <tr style=\"text-align: right;\">\n",
       "      <th></th>\n",
       "      <th>Loan_ID</th>\n",
       "      <th>Gender</th>\n",
       "      <th>Married</th>\n",
       "      <th>Dependents</th>\n",
       "      <th>Education</th>\n",
       "      <th>Self_Employed</th>\n",
       "      <th>ApplicantIncome</th>\n",
       "      <th>CoapplicantIncome</th>\n",
       "      <th>LoanAmount</th>\n",
       "      <th>Loan_Amount_Term</th>\n",
       "      <th>Credit_History</th>\n",
       "      <th>Property_Area</th>\n",
       "      <th>Loan_Status</th>\n",
       "    </tr>\n",
       "  </thead>\n",
       "  <tbody>\n",
       "    <tr>\n",
       "      <th>0</th>\n",
       "      <td>LP001002</td>\n",
       "      <td>Male</td>\n",
       "      <td>No</td>\n",
       "      <td>0</td>\n",
       "      <td>Graduate</td>\n",
       "      <td>No</td>\n",
       "      <td>5849</td>\n",
       "      <td>0.0</td>\n",
       "      <td>NaN</td>\n",
       "      <td>360.0</td>\n",
       "      <td>1.0</td>\n",
       "      <td>Urban</td>\n",
       "      <td>Y</td>\n",
       "    </tr>\n",
       "    <tr>\n",
       "      <th>1</th>\n",
       "      <td>LP001003</td>\n",
       "      <td>Male</td>\n",
       "      <td>Yes</td>\n",
       "      <td>1</td>\n",
       "      <td>Graduate</td>\n",
       "      <td>No</td>\n",
       "      <td>4583</td>\n",
       "      <td>1508.0</td>\n",
       "      <td>128.0</td>\n",
       "      <td>360.0</td>\n",
       "      <td>1.0</td>\n",
       "      <td>Rural</td>\n",
       "      <td>N</td>\n",
       "    </tr>\n",
       "    <tr>\n",
       "      <th>2</th>\n",
       "      <td>LP001005</td>\n",
       "      <td>Male</td>\n",
       "      <td>Yes</td>\n",
       "      <td>0</td>\n",
       "      <td>Graduate</td>\n",
       "      <td>Yes</td>\n",
       "      <td>3000</td>\n",
       "      <td>0.0</td>\n",
       "      <td>66.0</td>\n",
       "      <td>360.0</td>\n",
       "      <td>1.0</td>\n",
       "      <td>Urban</td>\n",
       "      <td>Y</td>\n",
       "    </tr>\n",
       "    <tr>\n",
       "      <th>3</th>\n",
       "      <td>LP001006</td>\n",
       "      <td>Male</td>\n",
       "      <td>Yes</td>\n",
       "      <td>0</td>\n",
       "      <td>Not Graduate</td>\n",
       "      <td>No</td>\n",
       "      <td>2583</td>\n",
       "      <td>2358.0</td>\n",
       "      <td>120.0</td>\n",
       "      <td>360.0</td>\n",
       "      <td>1.0</td>\n",
       "      <td>Urban</td>\n",
       "      <td>Y</td>\n",
       "    </tr>\n",
       "    <tr>\n",
       "      <th>4</th>\n",
       "      <td>LP001008</td>\n",
       "      <td>Male</td>\n",
       "      <td>No</td>\n",
       "      <td>0</td>\n",
       "      <td>Graduate</td>\n",
       "      <td>No</td>\n",
       "      <td>6000</td>\n",
       "      <td>0.0</td>\n",
       "      <td>141.0</td>\n",
       "      <td>360.0</td>\n",
       "      <td>1.0</td>\n",
       "      <td>Urban</td>\n",
       "      <td>Y</td>\n",
       "    </tr>\n",
       "  </tbody>\n",
       "</table>\n",
       "</div>"
      ],
      "text/plain": [
       "    Loan_ID Gender Married Dependents     Education Self_Employed  \\\n",
       "0  LP001002   Male      No          0      Graduate            No   \n",
       "1  LP001003   Male     Yes          1      Graduate            No   \n",
       "2  LP001005   Male     Yes          0      Graduate           Yes   \n",
       "3  LP001006   Male     Yes          0  Not Graduate            No   \n",
       "4  LP001008   Male      No          0      Graduate            No   \n",
       "\n",
       "   ApplicantIncome  CoapplicantIncome  LoanAmount  Loan_Amount_Term  \\\n",
       "0             5849                0.0         NaN             360.0   \n",
       "1             4583             1508.0       128.0             360.0   \n",
       "2             3000                0.0        66.0             360.0   \n",
       "3             2583             2358.0       120.0             360.0   \n",
       "4             6000                0.0       141.0             360.0   \n",
       "\n",
       "   Credit_History Property_Area Loan_Status  \n",
       "0             1.0         Urban           Y  \n",
       "1             1.0         Rural           N  \n",
       "2             1.0         Urban           Y  \n",
       "3             1.0         Urban           Y  \n",
       "4             1.0         Urban           Y  "
      ]
     },
     "execution_count": 4,
     "metadata": {},
     "output_type": "execute_result"
    }
   ],
   "source": [
    "data.head()"
   ]
  },
  {
   "cell_type": "markdown",
   "metadata": {},
   "source": [
    "# NOW CLEANING UP THE DATASET"
   ]
  },
  {
   "cell_type": "code",
   "execution_count": 5,
   "metadata": {},
   "outputs": [
    {
     "name": "stdout",
     "output_type": "stream",
     "text": [
      "<class 'pandas.core.frame.DataFrame'>\n",
      "RangeIndex: 614 entries, 0 to 613\n",
      "Data columns (total 13 columns):\n",
      " #   Column             Non-Null Count  Dtype  \n",
      "---  ------             --------------  -----  \n",
      " 0   Loan_ID            614 non-null    object \n",
      " 1   Gender             601 non-null    object \n",
      " 2   Married            611 non-null    object \n",
      " 3   Dependents         599 non-null    object \n",
      " 4   Education          614 non-null    object \n",
      " 5   Self_Employed      582 non-null    object \n",
      " 6   ApplicantIncome    614 non-null    int64  \n",
      " 7   CoapplicantIncome  614 non-null    float64\n",
      " 8   LoanAmount         592 non-null    float64\n",
      " 9   Loan_Amount_Term   600 non-null    float64\n",
      " 10  Credit_History     564 non-null    float64\n",
      " 11  Property_Area      614 non-null    object \n",
      " 12  Loan_Status        614 non-null    object \n",
      "dtypes: float64(4), int64(1), object(8)\n",
      "memory usage: 62.5+ KB\n"
     ]
    }
   ],
   "source": [
    "data.info()"
   ]
  },
  {
   "cell_type": "code",
   "execution_count": 6,
   "metadata": {},
   "outputs": [
    {
     "data": {
      "text/plain": [
       "Loan_ID               0\n",
       "Gender               13\n",
       "Married               3\n",
       "Dependents           15\n",
       "Education             0\n",
       "Self_Employed        32\n",
       "ApplicantIncome       0\n",
       "CoapplicantIncome     0\n",
       "LoanAmount           22\n",
       "Loan_Amount_Term     14\n",
       "Credit_History       50\n",
       "Property_Area         0\n",
       "Loan_Status           0\n",
       "dtype: int64"
      ]
     },
     "execution_count": 6,
     "metadata": {},
     "output_type": "execute_result"
    }
   ],
   "source": [
    "data.isna().sum()"
   ]
  },
  {
   "cell_type": "code",
   "execution_count": 7,
   "metadata": {},
   "outputs": [],
   "source": [
    "#Taking care of missing values\n",
    "# since there are nan values we have to handle each accordingly\n",
    "data['Gender'].mode() #since the mode is male, we fill the nan values with male\n",
    "data['Gender'].fillna('male',inplace=True)\n",
    "\n",
    "# FOR Married\n",
    "data['Married'].mode()\n",
    "data['Married'].fillna('Yes',inplace=True)\n",
    "\n",
    "# FOR Self_Employed\n",
    "data['Self_Employed'].mode()\n",
    "data['Self_Employed'].fillna('Yes',inplace=True)\n",
    "\n",
    "data['Dependents'] = data['Dependents'].replace(['3+'],3)\n",
    "data['Dependents'].fillna(0,inplace=True)\n",
    "data['Dependents'].fillna(0,inplace=True)\n",
    "\n",
    "# noow filling all missing numerical values \n",
    "data.fillna(data.mean(),inplace=True)\n",
    "\n",
    "#The above approach is choosen because the missing values are less than 5%"
   ]
  },
  {
   "cell_type": "code",
   "execution_count": 8,
   "metadata": {},
   "outputs": [
    {
     "data": {
      "text/plain": [
       "Loan_ID              0\n",
       "Gender               0\n",
       "Married              0\n",
       "Dependents           0\n",
       "Education            0\n",
       "Self_Employed        0\n",
       "ApplicantIncome      0\n",
       "CoapplicantIncome    0\n",
       "LoanAmount           0\n",
       "Loan_Amount_Term     0\n",
       "Credit_History       0\n",
       "Property_Area        0\n",
       "Loan_Status          0\n",
       "dtype: int64"
      ]
     },
     "execution_count": 8,
     "metadata": {},
     "output_type": "execute_result"
    }
   ],
   "source": [
    "# comfirming all missing values are taken care of\n",
    "data.isna().sum()"
   ]
  },
  {
   "cell_type": "markdown",
   "metadata": {},
   "source": [
    "# NOW CONVERTING ALL CATEGORICAL DATA TO NUMERICAL FOR THE DATASET"
   ]
  },
  {
   "cell_type": "code",
   "execution_count": 9,
   "metadata": {},
   "outputs": [],
   "source": [
    "# COVERTING CATEGORICAL DATA IN DATASET\n",
    "# GENDER, MARIED, EDUCATION,SELF-EMPLOYED - I will employ label encoder because it has only two categories\n",
    "from sklearn.preprocessing import LabelEncoder, OneHotEncoder\n",
    "le = LabelEncoder()"
   ]
  },
  {
   "cell_type": "code",
   "execution_count": 10,
   "metadata": {},
   "outputs": [],
   "source": [
    "#FOR GENDER\n",
    "data.Gender = le.fit_transform(data.Gender)\n",
    "\n",
    "#FOR Married\n",
    "data.Married = le.fit_transform(data.Married)\n",
    "\n",
    "#FOR Self_Employed\n",
    "data.Self_Employed = le.fit_transform(data.Self_Employed)\n",
    "\n",
    "#FOR Education\n",
    "data.Education = le.fit_transform(data.Education)\n",
    "                                  \n",
    "#FOR Loan_Status\n",
    "data.Loan_Status = le.fit_transform(data.Loan_Status)"
   ]
  },
  {
   "cell_type": "code",
   "execution_count": 11,
   "metadata": {},
   "outputs": [],
   "source": [
    "#NOW SINCE PROPERTTY_AREA FEATURE HAS HAS MORE THAN TWO CATEGORIES, I EMPLOY ONEHOTENCODER\n",
    "ohe = OneHotEncoder()\n",
    "area = ohe.fit_transform(data[['Property_Area']]).toarray()\n",
    "a_frame = pd.DataFrame(area)\n",
    "\n",
    "\n",
    "# creating a new dataframe to include the transformed data\n",
    "data_new = pd.concat([data,a_frame],axis=1)"
   ]
  },
  {
   "cell_type": "code",
   "execution_count": 12,
   "metadata": {},
   "outputs": [
    {
     "data": {
      "text/html": [
       "<div>\n",
       "<style scoped>\n",
       "    .dataframe tbody tr th:only-of-type {\n",
       "        vertical-align: middle;\n",
       "    }\n",
       "\n",
       "    .dataframe tbody tr th {\n",
       "        vertical-align: top;\n",
       "    }\n",
       "\n",
       "    .dataframe thead th {\n",
       "        text-align: right;\n",
       "    }\n",
       "</style>\n",
       "<table border=\"1\" class=\"dataframe\">\n",
       "  <thead>\n",
       "    <tr style=\"text-align: right;\">\n",
       "      <th></th>\n",
       "      <th>Loan_ID</th>\n",
       "      <th>Gender</th>\n",
       "      <th>Married</th>\n",
       "      <th>Dependents</th>\n",
       "      <th>Education</th>\n",
       "      <th>Self_Employed</th>\n",
       "      <th>ApplicantIncome</th>\n",
       "      <th>CoapplicantIncome</th>\n",
       "      <th>LoanAmount</th>\n",
       "      <th>Loan_Amount_Term</th>\n",
       "      <th>Credit_History</th>\n",
       "      <th>Property_Area</th>\n",
       "      <th>Loan_Status</th>\n",
       "      <th>0</th>\n",
       "      <th>1</th>\n",
       "      <th>2</th>\n",
       "    </tr>\n",
       "  </thead>\n",
       "  <tbody>\n",
       "    <tr>\n",
       "      <th>0</th>\n",
       "      <td>LP001002</td>\n",
       "      <td>1</td>\n",
       "      <td>0</td>\n",
       "      <td>0</td>\n",
       "      <td>0</td>\n",
       "      <td>0</td>\n",
       "      <td>5849</td>\n",
       "      <td>0.0</td>\n",
       "      <td>146.412162</td>\n",
       "      <td>360.0</td>\n",
       "      <td>1.0</td>\n",
       "      <td>Urban</td>\n",
       "      <td>1</td>\n",
       "      <td>0.0</td>\n",
       "      <td>0.0</td>\n",
       "      <td>1.0</td>\n",
       "    </tr>\n",
       "    <tr>\n",
       "      <th>1</th>\n",
       "      <td>LP001003</td>\n",
       "      <td>1</td>\n",
       "      <td>1</td>\n",
       "      <td>1</td>\n",
       "      <td>0</td>\n",
       "      <td>0</td>\n",
       "      <td>4583</td>\n",
       "      <td>1508.0</td>\n",
       "      <td>128.000000</td>\n",
       "      <td>360.0</td>\n",
       "      <td>1.0</td>\n",
       "      <td>Rural</td>\n",
       "      <td>0</td>\n",
       "      <td>1.0</td>\n",
       "      <td>0.0</td>\n",
       "      <td>0.0</td>\n",
       "    </tr>\n",
       "    <tr>\n",
       "      <th>2</th>\n",
       "      <td>LP001005</td>\n",
       "      <td>1</td>\n",
       "      <td>1</td>\n",
       "      <td>0</td>\n",
       "      <td>0</td>\n",
       "      <td>1</td>\n",
       "      <td>3000</td>\n",
       "      <td>0.0</td>\n",
       "      <td>66.000000</td>\n",
       "      <td>360.0</td>\n",
       "      <td>1.0</td>\n",
       "      <td>Urban</td>\n",
       "      <td>1</td>\n",
       "      <td>0.0</td>\n",
       "      <td>0.0</td>\n",
       "      <td>1.0</td>\n",
       "    </tr>\n",
       "    <tr>\n",
       "      <th>3</th>\n",
       "      <td>LP001006</td>\n",
       "      <td>1</td>\n",
       "      <td>1</td>\n",
       "      <td>0</td>\n",
       "      <td>1</td>\n",
       "      <td>0</td>\n",
       "      <td>2583</td>\n",
       "      <td>2358.0</td>\n",
       "      <td>120.000000</td>\n",
       "      <td>360.0</td>\n",
       "      <td>1.0</td>\n",
       "      <td>Urban</td>\n",
       "      <td>1</td>\n",
       "      <td>0.0</td>\n",
       "      <td>0.0</td>\n",
       "      <td>1.0</td>\n",
       "    </tr>\n",
       "    <tr>\n",
       "      <th>4</th>\n",
       "      <td>LP001008</td>\n",
       "      <td>1</td>\n",
       "      <td>0</td>\n",
       "      <td>0</td>\n",
       "      <td>0</td>\n",
       "      <td>0</td>\n",
       "      <td>6000</td>\n",
       "      <td>0.0</td>\n",
       "      <td>141.000000</td>\n",
       "      <td>360.0</td>\n",
       "      <td>1.0</td>\n",
       "      <td>Urban</td>\n",
       "      <td>1</td>\n",
       "      <td>0.0</td>\n",
       "      <td>0.0</td>\n",
       "      <td>1.0</td>\n",
       "    </tr>\n",
       "    <tr>\n",
       "      <th>...</th>\n",
       "      <td>...</td>\n",
       "      <td>...</td>\n",
       "      <td>...</td>\n",
       "      <td>...</td>\n",
       "      <td>...</td>\n",
       "      <td>...</td>\n",
       "      <td>...</td>\n",
       "      <td>...</td>\n",
       "      <td>...</td>\n",
       "      <td>...</td>\n",
       "      <td>...</td>\n",
       "      <td>...</td>\n",
       "      <td>...</td>\n",
       "      <td>...</td>\n",
       "      <td>...</td>\n",
       "      <td>...</td>\n",
       "    </tr>\n",
       "    <tr>\n",
       "      <th>609</th>\n",
       "      <td>LP002978</td>\n",
       "      <td>0</td>\n",
       "      <td>0</td>\n",
       "      <td>0</td>\n",
       "      <td>0</td>\n",
       "      <td>0</td>\n",
       "      <td>2900</td>\n",
       "      <td>0.0</td>\n",
       "      <td>71.000000</td>\n",
       "      <td>360.0</td>\n",
       "      <td>1.0</td>\n",
       "      <td>Rural</td>\n",
       "      <td>1</td>\n",
       "      <td>1.0</td>\n",
       "      <td>0.0</td>\n",
       "      <td>0.0</td>\n",
       "    </tr>\n",
       "    <tr>\n",
       "      <th>610</th>\n",
       "      <td>LP002979</td>\n",
       "      <td>1</td>\n",
       "      <td>1</td>\n",
       "      <td>3</td>\n",
       "      <td>0</td>\n",
       "      <td>0</td>\n",
       "      <td>4106</td>\n",
       "      <td>0.0</td>\n",
       "      <td>40.000000</td>\n",
       "      <td>180.0</td>\n",
       "      <td>1.0</td>\n",
       "      <td>Rural</td>\n",
       "      <td>1</td>\n",
       "      <td>1.0</td>\n",
       "      <td>0.0</td>\n",
       "      <td>0.0</td>\n",
       "    </tr>\n",
       "    <tr>\n",
       "      <th>611</th>\n",
       "      <td>LP002983</td>\n",
       "      <td>1</td>\n",
       "      <td>1</td>\n",
       "      <td>1</td>\n",
       "      <td>0</td>\n",
       "      <td>0</td>\n",
       "      <td>8072</td>\n",
       "      <td>240.0</td>\n",
       "      <td>253.000000</td>\n",
       "      <td>360.0</td>\n",
       "      <td>1.0</td>\n",
       "      <td>Urban</td>\n",
       "      <td>1</td>\n",
       "      <td>0.0</td>\n",
       "      <td>0.0</td>\n",
       "      <td>1.0</td>\n",
       "    </tr>\n",
       "    <tr>\n",
       "      <th>612</th>\n",
       "      <td>LP002984</td>\n",
       "      <td>1</td>\n",
       "      <td>1</td>\n",
       "      <td>2</td>\n",
       "      <td>0</td>\n",
       "      <td>0</td>\n",
       "      <td>7583</td>\n",
       "      <td>0.0</td>\n",
       "      <td>187.000000</td>\n",
       "      <td>360.0</td>\n",
       "      <td>1.0</td>\n",
       "      <td>Urban</td>\n",
       "      <td>1</td>\n",
       "      <td>0.0</td>\n",
       "      <td>0.0</td>\n",
       "      <td>1.0</td>\n",
       "    </tr>\n",
       "    <tr>\n",
       "      <th>613</th>\n",
       "      <td>LP002990</td>\n",
       "      <td>0</td>\n",
       "      <td>0</td>\n",
       "      <td>0</td>\n",
       "      <td>0</td>\n",
       "      <td>1</td>\n",
       "      <td>4583</td>\n",
       "      <td>0.0</td>\n",
       "      <td>133.000000</td>\n",
       "      <td>360.0</td>\n",
       "      <td>0.0</td>\n",
       "      <td>Semiurban</td>\n",
       "      <td>0</td>\n",
       "      <td>0.0</td>\n",
       "      <td>1.0</td>\n",
       "      <td>0.0</td>\n",
       "    </tr>\n",
       "  </tbody>\n",
       "</table>\n",
       "<p>614 rows × 16 columns</p>\n",
       "</div>"
      ],
      "text/plain": [
       "      Loan_ID  Gender  Married Dependents  Education  Self_Employed  \\\n",
       "0    LP001002       1        0          0          0              0   \n",
       "1    LP001003       1        1          1          0              0   \n",
       "2    LP001005       1        1          0          0              1   \n",
       "3    LP001006       1        1          0          1              0   \n",
       "4    LP001008       1        0          0          0              0   \n",
       "..        ...     ...      ...        ...        ...            ...   \n",
       "609  LP002978       0        0          0          0              0   \n",
       "610  LP002979       1        1          3          0              0   \n",
       "611  LP002983       1        1          1          0              0   \n",
       "612  LP002984       1        1          2          0              0   \n",
       "613  LP002990       0        0          0          0              1   \n",
       "\n",
       "     ApplicantIncome  CoapplicantIncome  LoanAmount  Loan_Amount_Term  \\\n",
       "0               5849                0.0  146.412162             360.0   \n",
       "1               4583             1508.0  128.000000             360.0   \n",
       "2               3000                0.0   66.000000             360.0   \n",
       "3               2583             2358.0  120.000000             360.0   \n",
       "4               6000                0.0  141.000000             360.0   \n",
       "..               ...                ...         ...               ...   \n",
       "609             2900                0.0   71.000000             360.0   \n",
       "610             4106                0.0   40.000000             180.0   \n",
       "611             8072              240.0  253.000000             360.0   \n",
       "612             7583                0.0  187.000000             360.0   \n",
       "613             4583                0.0  133.000000             360.0   \n",
       "\n",
       "     Credit_History Property_Area  Loan_Status    0    1    2  \n",
       "0               1.0         Urban            1  0.0  0.0  1.0  \n",
       "1               1.0         Rural            0  1.0  0.0  0.0  \n",
       "2               1.0         Urban            1  0.0  0.0  1.0  \n",
       "3               1.0         Urban            1  0.0  0.0  1.0  \n",
       "4               1.0         Urban            1  0.0  0.0  1.0  \n",
       "..              ...           ...          ...  ...  ...  ...  \n",
       "609             1.0         Rural            1  1.0  0.0  0.0  \n",
       "610             1.0         Rural            1  1.0  0.0  0.0  \n",
       "611             1.0         Urban            1  0.0  0.0  1.0  \n",
       "612             1.0         Urban            1  0.0  0.0  1.0  \n",
       "613             0.0     Semiurban            0  0.0  1.0  0.0  \n",
       "\n",
       "[614 rows x 16 columns]"
      ]
     },
     "execution_count": 12,
     "metadata": {},
     "output_type": "execute_result"
    }
   ],
   "source": [
    "# CONFIRMING THAT TEST DATASET IS 100% PROCESSED\n",
    "data_new"
   ]
  },
  {
   "cell_type": "markdown",
   "metadata": {},
   "source": [
    "# NOW SPLITTING DATA INTO DEPENDENT AND INDEPENDENT VARIABLES"
   ]
  },
  {
   "cell_type": "code",
   "execution_count": 13,
   "metadata": {},
   "outputs": [],
   "source": [
    "X = data_new.loc[:,['Gender','Married','Dependents','Education','Self_Employed','ApplicantIncome','CoapplicantIncome','LoanAmount','Loan_Amount_Term','Credit_History',0,1,2]]\n",
    "y = data['Loan_Status']"
   ]
  },
  {
   "cell_type": "code",
   "execution_count": 14,
   "metadata": {},
   "outputs": [
    {
     "data": {
      "text/html": [
       "<div>\n",
       "<style scoped>\n",
       "    .dataframe tbody tr th:only-of-type {\n",
       "        vertical-align: middle;\n",
       "    }\n",
       "\n",
       "    .dataframe tbody tr th {\n",
       "        vertical-align: top;\n",
       "    }\n",
       "\n",
       "    .dataframe thead th {\n",
       "        text-align: right;\n",
       "    }\n",
       "</style>\n",
       "<table border=\"1\" class=\"dataframe\">\n",
       "  <thead>\n",
       "    <tr style=\"text-align: right;\">\n",
       "      <th></th>\n",
       "      <th>Gender</th>\n",
       "      <th>Married</th>\n",
       "      <th>Dependents</th>\n",
       "      <th>Education</th>\n",
       "      <th>Self_Employed</th>\n",
       "      <th>ApplicantIncome</th>\n",
       "      <th>CoapplicantIncome</th>\n",
       "      <th>LoanAmount</th>\n",
       "      <th>Loan_Amount_Term</th>\n",
       "      <th>Credit_History</th>\n",
       "      <th>0</th>\n",
       "      <th>1</th>\n",
       "      <th>2</th>\n",
       "    </tr>\n",
       "  </thead>\n",
       "  <tbody>\n",
       "    <tr>\n",
       "      <th>0</th>\n",
       "      <td>1</td>\n",
       "      <td>0</td>\n",
       "      <td>0</td>\n",
       "      <td>0</td>\n",
       "      <td>0</td>\n",
       "      <td>5849</td>\n",
       "      <td>0.0</td>\n",
       "      <td>146.412162</td>\n",
       "      <td>360.0</td>\n",
       "      <td>1.0</td>\n",
       "      <td>0.0</td>\n",
       "      <td>0.0</td>\n",
       "      <td>1.0</td>\n",
       "    </tr>\n",
       "    <tr>\n",
       "      <th>1</th>\n",
       "      <td>1</td>\n",
       "      <td>1</td>\n",
       "      <td>1</td>\n",
       "      <td>0</td>\n",
       "      <td>0</td>\n",
       "      <td>4583</td>\n",
       "      <td>1508.0</td>\n",
       "      <td>128.000000</td>\n",
       "      <td>360.0</td>\n",
       "      <td>1.0</td>\n",
       "      <td>1.0</td>\n",
       "      <td>0.0</td>\n",
       "      <td>0.0</td>\n",
       "    </tr>\n",
       "    <tr>\n",
       "      <th>2</th>\n",
       "      <td>1</td>\n",
       "      <td>1</td>\n",
       "      <td>0</td>\n",
       "      <td>0</td>\n",
       "      <td>1</td>\n",
       "      <td>3000</td>\n",
       "      <td>0.0</td>\n",
       "      <td>66.000000</td>\n",
       "      <td>360.0</td>\n",
       "      <td>1.0</td>\n",
       "      <td>0.0</td>\n",
       "      <td>0.0</td>\n",
       "      <td>1.0</td>\n",
       "    </tr>\n",
       "    <tr>\n",
       "      <th>3</th>\n",
       "      <td>1</td>\n",
       "      <td>1</td>\n",
       "      <td>0</td>\n",
       "      <td>1</td>\n",
       "      <td>0</td>\n",
       "      <td>2583</td>\n",
       "      <td>2358.0</td>\n",
       "      <td>120.000000</td>\n",
       "      <td>360.0</td>\n",
       "      <td>1.0</td>\n",
       "      <td>0.0</td>\n",
       "      <td>0.0</td>\n",
       "      <td>1.0</td>\n",
       "    </tr>\n",
       "    <tr>\n",
       "      <th>4</th>\n",
       "      <td>1</td>\n",
       "      <td>0</td>\n",
       "      <td>0</td>\n",
       "      <td>0</td>\n",
       "      <td>0</td>\n",
       "      <td>6000</td>\n",
       "      <td>0.0</td>\n",
       "      <td>141.000000</td>\n",
       "      <td>360.0</td>\n",
       "      <td>1.0</td>\n",
       "      <td>0.0</td>\n",
       "      <td>0.0</td>\n",
       "      <td>1.0</td>\n",
       "    </tr>\n",
       "    <tr>\n",
       "      <th>...</th>\n",
       "      <td>...</td>\n",
       "      <td>...</td>\n",
       "      <td>...</td>\n",
       "      <td>...</td>\n",
       "      <td>...</td>\n",
       "      <td>...</td>\n",
       "      <td>...</td>\n",
       "      <td>...</td>\n",
       "      <td>...</td>\n",
       "      <td>...</td>\n",
       "      <td>...</td>\n",
       "      <td>...</td>\n",
       "      <td>...</td>\n",
       "    </tr>\n",
       "    <tr>\n",
       "      <th>609</th>\n",
       "      <td>0</td>\n",
       "      <td>0</td>\n",
       "      <td>0</td>\n",
       "      <td>0</td>\n",
       "      <td>0</td>\n",
       "      <td>2900</td>\n",
       "      <td>0.0</td>\n",
       "      <td>71.000000</td>\n",
       "      <td>360.0</td>\n",
       "      <td>1.0</td>\n",
       "      <td>1.0</td>\n",
       "      <td>0.0</td>\n",
       "      <td>0.0</td>\n",
       "    </tr>\n",
       "    <tr>\n",
       "      <th>610</th>\n",
       "      <td>1</td>\n",
       "      <td>1</td>\n",
       "      <td>3</td>\n",
       "      <td>0</td>\n",
       "      <td>0</td>\n",
       "      <td>4106</td>\n",
       "      <td>0.0</td>\n",
       "      <td>40.000000</td>\n",
       "      <td>180.0</td>\n",
       "      <td>1.0</td>\n",
       "      <td>1.0</td>\n",
       "      <td>0.0</td>\n",
       "      <td>0.0</td>\n",
       "    </tr>\n",
       "    <tr>\n",
       "      <th>611</th>\n",
       "      <td>1</td>\n",
       "      <td>1</td>\n",
       "      <td>1</td>\n",
       "      <td>0</td>\n",
       "      <td>0</td>\n",
       "      <td>8072</td>\n",
       "      <td>240.0</td>\n",
       "      <td>253.000000</td>\n",
       "      <td>360.0</td>\n",
       "      <td>1.0</td>\n",
       "      <td>0.0</td>\n",
       "      <td>0.0</td>\n",
       "      <td>1.0</td>\n",
       "    </tr>\n",
       "    <tr>\n",
       "      <th>612</th>\n",
       "      <td>1</td>\n",
       "      <td>1</td>\n",
       "      <td>2</td>\n",
       "      <td>0</td>\n",
       "      <td>0</td>\n",
       "      <td>7583</td>\n",
       "      <td>0.0</td>\n",
       "      <td>187.000000</td>\n",
       "      <td>360.0</td>\n",
       "      <td>1.0</td>\n",
       "      <td>0.0</td>\n",
       "      <td>0.0</td>\n",
       "      <td>1.0</td>\n",
       "    </tr>\n",
       "    <tr>\n",
       "      <th>613</th>\n",
       "      <td>0</td>\n",
       "      <td>0</td>\n",
       "      <td>0</td>\n",
       "      <td>0</td>\n",
       "      <td>1</td>\n",
       "      <td>4583</td>\n",
       "      <td>0.0</td>\n",
       "      <td>133.000000</td>\n",
       "      <td>360.0</td>\n",
       "      <td>0.0</td>\n",
       "      <td>0.0</td>\n",
       "      <td>1.0</td>\n",
       "      <td>0.0</td>\n",
       "    </tr>\n",
       "  </tbody>\n",
       "</table>\n",
       "<p>614 rows × 13 columns</p>\n",
       "</div>"
      ],
      "text/plain": [
       "     Gender  Married Dependents  Education  Self_Employed  ApplicantIncome  \\\n",
       "0         1        0          0          0              0             5849   \n",
       "1         1        1          1          0              0             4583   \n",
       "2         1        1          0          0              1             3000   \n",
       "3         1        1          0          1              0             2583   \n",
       "4         1        0          0          0              0             6000   \n",
       "..      ...      ...        ...        ...            ...              ...   \n",
       "609       0        0          0          0              0             2900   \n",
       "610       1        1          3          0              0             4106   \n",
       "611       1        1          1          0              0             8072   \n",
       "612       1        1          2          0              0             7583   \n",
       "613       0        0          0          0              1             4583   \n",
       "\n",
       "     CoapplicantIncome  LoanAmount  Loan_Amount_Term  Credit_History    0  \\\n",
       "0                  0.0  146.412162             360.0             1.0  0.0   \n",
       "1               1508.0  128.000000             360.0             1.0  1.0   \n",
       "2                  0.0   66.000000             360.0             1.0  0.0   \n",
       "3               2358.0  120.000000             360.0             1.0  0.0   \n",
       "4                  0.0  141.000000             360.0             1.0  0.0   \n",
       "..                 ...         ...               ...             ...  ...   \n",
       "609                0.0   71.000000             360.0             1.0  1.0   \n",
       "610                0.0   40.000000             180.0             1.0  1.0   \n",
       "611              240.0  253.000000             360.0             1.0  0.0   \n",
       "612                0.0  187.000000             360.0             1.0  0.0   \n",
       "613                0.0  133.000000             360.0             0.0  0.0   \n",
       "\n",
       "       1    2  \n",
       "0    0.0  1.0  \n",
       "1    0.0  0.0  \n",
       "2    0.0  1.0  \n",
       "3    0.0  1.0  \n",
       "4    0.0  1.0  \n",
       "..   ...  ...  \n",
       "609  0.0  0.0  \n",
       "610  0.0  0.0  \n",
       "611  0.0  1.0  \n",
       "612  0.0  1.0  \n",
       "613  1.0  0.0  \n",
       "\n",
       "[614 rows x 13 columns]"
      ]
     },
     "execution_count": 14,
     "metadata": {},
     "output_type": "execute_result"
    }
   ],
   "source": [
    "X"
   ]
  },
  {
   "cell_type": "code",
   "execution_count": 15,
   "metadata": {},
   "outputs": [
    {
     "data": {
      "text/plain": [
       "0      1\n",
       "1      0\n",
       "2      1\n",
       "3      1\n",
       "4      1\n",
       "      ..\n",
       "609    1\n",
       "610    1\n",
       "611    1\n",
       "612    1\n",
       "613    0\n",
       "Name: Loan_Status, Length: 614, dtype: int64"
      ]
     },
     "execution_count": 15,
     "metadata": {},
     "output_type": "execute_result"
    }
   ],
   "source": [
    "y"
   ]
  },
  {
   "cell_type": "markdown",
   "metadata": {},
   "source": [
    "### Split the dataset into train and test data"
   ]
  },
  {
   "cell_type": "code",
   "execution_count": 16,
   "metadata": {},
   "outputs": [],
   "source": [
    "# importing model selection from skit learn\n",
    "from sklearn.model_selection import train_test_split\n",
    "train_X,test_X,train_y,test_y = train_test_split(X, y,train_size=0.5,test_size=0.5,random_state=123) "
   ]
  },
  {
   "cell_type": "markdown",
   "metadata": {},
   "source": [
    "# NOW USING THE DECISION TREE ML ALGORITHM "
   ]
  },
  {
   "cell_type": "code",
   "execution_count": 17,
   "metadata": {},
   "outputs": [],
   "source": [
    "#importing the decision tree classification model\n",
    "from sklearn.tree import DecisionTreeClassifier\n",
    "tree = DecisionTreeClassifier(criterion='gini',max_depth=None)"
   ]
  },
  {
   "cell_type": "code",
   "execution_count": 18,
   "metadata": {},
   "outputs": [
    {
     "data": {
      "text/plain": [
       "DecisionTreeClassifier()"
      ]
     },
     "execution_count": 18,
     "metadata": {},
     "output_type": "execute_result"
    }
   ],
   "source": [
    "tree.fit(train_X,train_y)"
   ]
  },
  {
   "cell_type": "code",
   "execution_count": 19,
   "metadata": {},
   "outputs": [],
   "source": [
    "prediction = tree.predict(test_X)"
   ]
  },
  {
   "cell_type": "code",
   "execution_count": 20,
   "metadata": {},
   "outputs": [
    {
     "name": "stdout",
     "output_type": "stream",
     "text": [
      "[[ 53  50]\n",
      " [ 41 163]]\n"
     ]
    }
   ],
   "source": [
    "from sklearn.metrics import confusion_matrix\n",
    "print(confusion_matrix(test_y,prediction))"
   ]
  },
  {
   "cell_type": "markdown",
   "metadata": {},
   "source": [
    "# Now Using GridSearchCV for finding the best model with the best hyperparameters"
   ]
  },
  {
   "cell_type": "code",
   "execution_count": 21,
   "metadata": {},
   "outputs": [],
   "source": [
    "param_dist = {'criterion': ['gini','entropy'], 'max_depth': [1,2,3,4,5,6,7,None]} "
   ]
  },
  {
   "cell_type": "code",
   "execution_count": 22,
   "metadata": {},
   "outputs": [],
   "source": [
    "from sklearn.model_selection import GridSearchCV "
   ]
  },
  {
   "cell_type": "code",
   "execution_count": 23,
   "metadata": {},
   "outputs": [],
   "source": [
    "#Creating Parameter Grid\n",
    "grid = GridSearchCV(tree, param_grid=param_dist, cv=10, n_jobs=-1) "
   ]
  },
  {
   "cell_type": "code",
   "execution_count": 24,
   "metadata": {},
   "outputs": [
    {
     "data": {
      "text/plain": [
       "GridSearchCV(cv=10, estimator=DecisionTreeClassifier(), n_jobs=-1,\n",
       "             param_grid={'criterion': ['gini', 'entropy'],\n",
       "                         'max_depth': [1, 2, 3, 4, 5, 6, 7, None]})"
      ]
     },
     "execution_count": 24,
     "metadata": {},
     "output_type": "execute_result"
    }
   ],
   "source": [
    "#Running gridSearchVC\n",
    "grid.fit(train_X,train_y)"
   ]
  },
  {
   "cell_type": "code",
   "execution_count": 25,
   "metadata": {},
   "outputs": [
    {
     "data": {
      "text/plain": [
       "{'criterion': 'gini', 'max_depth': 1}"
      ]
     },
     "execution_count": 25,
     "metadata": {},
     "output_type": "execute_result"
    }
   ],
   "source": [
    "grid.best_params_  # Parameter setting that gave the best results"
   ]
  },
  {
   "cell_type": "code",
   "execution_count": 26,
   "metadata": {},
   "outputs": [
    {
     "data": {
      "text/plain": [
       "DecisionTreeClassifier(max_depth=1)"
      ]
     },
     "execution_count": 26,
     "metadata": {},
     "output_type": "execute_result"
    }
   ],
   "source": [
    "grid.best_estimator_  # Best hyperparameter accuracy for the algorithm algorithm"
   ]
  },
  {
   "cell_type": "code",
   "execution_count": 27,
   "metadata": {},
   "outputs": [],
   "source": [
    "grid_predictions = grid.predict(test_X)"
   ]
  },
  {
   "cell_type": "code",
   "execution_count": 28,
   "metadata": {},
   "outputs": [
    {
     "name": "stdout",
     "output_type": "stream",
     "text": [
      "[[ 43  60]\n",
      " [  4 200]] \n",
      " with accuracy  0.8273118279569893\n"
     ]
    }
   ],
   "source": [
    "#best algorithm accuracy\n",
    "print(confusion_matrix(test_y,grid_predictions),'\\n with accuracy ',grid.best_score_)"
   ]
  },
  {
   "cell_type": "markdown",
   "metadata": {},
   "source": [
    "# NOW USING THE KNN ML ALGORITHM "
   ]
  },
  {
   "cell_type": "code",
   "execution_count": 29,
   "metadata": {},
   "outputs": [],
   "source": [
    "# Now looping through the preprocessing techniques with KNN\n",
    "from sklearn.neighbors import KNeighborsClassifier\n",
    "\n",
    "Knn = KNeighborsClassifier(algorithm='auto', leaf_size=30, metric='minkowski',\n",
    "                     metric_params=None, n_jobs=None, n_neighbors=5, p=2,\n",
    "                     weights='uniform')"
   ]
  },
  {
   "cell_type": "code",
   "execution_count": 30,
   "metadata": {},
   "outputs": [
    {
     "data": {
      "text/plain": [
       "KNeighborsClassifier()"
      ]
     },
     "execution_count": 30,
     "metadata": {},
     "output_type": "execute_result"
    }
   ],
   "source": [
    "Knn.fit(train_X,train_y)"
   ]
  },
  {
   "cell_type": "code",
   "execution_count": 31,
   "metadata": {},
   "outputs": [],
   "source": [
    "K_prediction = Knn.predict(test_X)"
   ]
  },
  {
   "cell_type": "code",
   "execution_count": 32,
   "metadata": {},
   "outputs": [
    {
     "name": "stdout",
     "output_type": "stream",
     "text": [
      "[[ 12  91]\n",
      " [ 29 175]]\n"
     ]
    }
   ],
   "source": [
    "print(confusion_matrix(test_y,K_prediction))"
   ]
  },
  {
   "cell_type": "markdown",
   "metadata": {},
   "source": [
    "# Now Using GridSearchCV for finding the best model with the best hyperparameters"
   ]
  },
  {
   "cell_type": "code",
   "execution_count": 33,
   "metadata": {},
   "outputs": [],
   "source": [
    "param_distK = {'n_neighbors' : [5,7,9,11,13,15],\n",
    "               'weights' : ['uniform','distance'],\n",
    "               'metric' : ['minkowski','euclidean','manhattan']} "
   ]
  },
  {
   "cell_type": "code",
   "execution_count": 34,
   "metadata": {},
   "outputs": [],
   "source": [
    "#Creating Parameter Grid\n",
    "K_grid = GridSearchCV(KNeighborsClassifier(), param_distK, verbose = 1, cv=3, n_jobs = -1)"
   ]
  },
  {
   "cell_type": "code",
   "execution_count": 35,
   "metadata": {},
   "outputs": [
    {
     "name": "stdout",
     "output_type": "stream",
     "text": [
      "Fitting 3 folds for each of 36 candidates, totalling 108 fits\n"
     ]
    },
    {
     "name": "stderr",
     "output_type": "stream",
     "text": [
      "[Parallel(n_jobs=-1)]: Using backend LokyBackend with 4 concurrent workers.\n",
      "[Parallel(n_jobs=-1)]: Done 108 out of 108 | elapsed:    0.5s finished\n"
     ]
    },
    {
     "data": {
      "text/plain": [
       "GridSearchCV(cv=3, estimator=KNeighborsClassifier(), n_jobs=-1,\n",
       "             param_grid={'metric': ['minkowski', 'euclidean', 'manhattan'],\n",
       "                         'n_neighbors': [5, 7, 9, 11, 13, 15],\n",
       "                         'weights': ['uniform', 'distance']},\n",
       "             verbose=1)"
      ]
     },
     "execution_count": 35,
     "metadata": {},
     "output_type": "execute_result"
    }
   ],
   "source": [
    "#Running gridSearchVC\n",
    "K_grid.fit(train_X,train_y)"
   ]
  },
  {
   "cell_type": "code",
   "execution_count": 36,
   "metadata": {},
   "outputs": [
    {
     "data": {
      "text/plain": [
       "{'metric': 'minkowski', 'n_neighbors': 11, 'weights': 'uniform'}"
      ]
     },
     "execution_count": 36,
     "metadata": {},
     "output_type": "execute_result"
    }
   ],
   "source": [
    "K_grid.best_params_  # Parameter setting that gave the best results"
   ]
  },
  {
   "cell_type": "code",
   "execution_count": 37,
   "metadata": {},
   "outputs": [
    {
     "data": {
      "text/plain": [
       "KNeighborsClassifier(n_neighbors=11)"
      ]
     },
     "execution_count": 37,
     "metadata": {},
     "output_type": "execute_result"
    }
   ],
   "source": [
    "K_grid.best_estimator_  # Best hyperparameter accuracy for the algorithm algorithm"
   ]
  },
  {
   "cell_type": "code",
   "execution_count": 38,
   "metadata": {},
   "outputs": [],
   "source": [
    "grid_predictionsK = K_grid.predict(test_X)"
   ]
  },
  {
   "cell_type": "code",
   "execution_count": 39,
   "metadata": {},
   "outputs": [
    {
     "name": "stdout",
     "output_type": "stream",
     "text": [
      "[[ 10  93]\n",
      " [ 18 186]] \n",
      " with accuracy  0.7426867187004252\n"
     ]
    }
   ],
   "source": [
    "print(confusion_matrix(test_y,grid_predictionsK),'\\n with accuracy ',K_grid.best_score_)"
   ]
  },
  {
   "cell_type": "markdown",
   "metadata": {},
   "source": [
    "# NOW USING THE LOGISTIC REGRESSION ML ALGORITHM "
   ]
  },
  {
   "cell_type": "code",
   "execution_count": 40,
   "metadata": {},
   "outputs": [],
   "source": [
    "# Now looping through the preprocessing techniques with KNN\n",
    "import numpy as np\n",
    "from sklearn.linear_model import LogisticRegression\n",
    "\n",
    "logReg = LogisticRegression()"
   ]
  },
  {
   "cell_type": "code",
   "execution_count": 41,
   "metadata": {},
   "outputs": [
    {
     "data": {
      "text/plain": [
       "LogisticRegression()"
      ]
     },
     "execution_count": 41,
     "metadata": {},
     "output_type": "execute_result"
    }
   ],
   "source": [
    "logReg.fit(train_X,train_y)"
   ]
  },
  {
   "cell_type": "code",
   "execution_count": 42,
   "metadata": {},
   "outputs": [],
   "source": [
    "Reg_prediction = logReg.predict(test_X)"
   ]
  },
  {
   "cell_type": "code",
   "execution_count": 43,
   "metadata": {},
   "outputs": [
    {
     "name": "stdout",
     "output_type": "stream",
     "text": [
      "[[ 44  59]\n",
      " [  4 200]]\n"
     ]
    }
   ],
   "source": [
    "print(confusion_matrix(test_y,Reg_prediction))"
   ]
  },
  {
   "cell_type": "markdown",
   "metadata": {},
   "source": [
    "# Now Using GridSearchCV for finding the best model with the best hyperparameters"
   ]
  },
  {
   "cell_type": "code",
   "execution_count": 44,
   "metadata": {},
   "outputs": [],
   "source": [
    "param_dist_reg = {'penalty' : ['l1', 'l2', 'elasticnet', 'none'],\n",
    "    'C' : np.logspace(-4, 4, 20),\n",
    "    'solver' : ['lbfgs','newton-cg','liblinear','sag','saga'],\n",
    "    'max_iter' : [100, 1000,2500, 5000]\n",
    "    }"
   ]
  },
  {
   "cell_type": "code",
   "execution_count": 45,
   "metadata": {},
   "outputs": [],
   "source": [
    "#Creating Parameter Grid\n",
    "reg_grid = GridSearchCV(logReg, param_grid = param_dist_reg, verbose = 1, cv=3, n_jobs = -1)"
   ]
  },
  {
   "cell_type": "code",
   "execution_count": 46,
   "metadata": {},
   "outputs": [
    {
     "name": "stdout",
     "output_type": "stream",
     "text": [
      "Fitting 3 folds for each of 1600 candidates, totalling 4800 fits\n"
     ]
    },
    {
     "name": "stderr",
     "output_type": "stream",
     "text": [
      "[Parallel(n_jobs=-1)]: Using backend LokyBackend with 4 concurrent workers.\n",
      "[Parallel(n_jobs=-1)]: Done 280 tasks      | elapsed:    2.7s\n",
      "[Parallel(n_jobs=-1)]: Done 2680 tasks      | elapsed:   33.6s\n",
      "[Parallel(n_jobs=-1)]: Done 3808 tasks      | elapsed:   51.3s\n",
      "[Parallel(n_jobs=-1)]: Done 4793 out of 4800 | elapsed:  1.1min remaining:    0.1s\n",
      "[Parallel(n_jobs=-1)]: Done 4800 out of 4800 | elapsed:  1.1min finished\n",
      "/Users/isaacopei/opt/anaconda3/lib/python3.8/site-packages/sklearn/linear_model/_logistic.py:1320: UserWarning: Setting penalty='none' will ignore the C and l1_ratio parameters\n",
      "  warnings.warn(\n"
     ]
    },
    {
     "data": {
      "text/plain": [
       "GridSearchCV(cv=3, estimator=LogisticRegression(), n_jobs=-1,\n",
       "             param_grid={'C': array([1.00000000e-04, 2.63665090e-04, 6.95192796e-04, 1.83298071e-03,\n",
       "       4.83293024e-03, 1.27427499e-02, 3.35981829e-02, 8.85866790e-02,\n",
       "       2.33572147e-01, 6.15848211e-01, 1.62377674e+00, 4.28133240e+00,\n",
       "       1.12883789e+01, 2.97635144e+01, 7.84759970e+01, 2.06913808e+02,\n",
       "       5.45559478e+02, 1.43844989e+03, 3.79269019e+03, 1.00000000e+04]),\n",
       "                         'max_iter': [100, 1000, 2500, 5000],\n",
       "                         'penalty': ['l1', 'l2', 'elasticnet', 'none'],\n",
       "                         'solver': ['lbfgs', 'newton-cg', 'liblinear', 'sag',\n",
       "                                    'saga']},\n",
       "             verbose=1)"
      ]
     },
     "execution_count": 46,
     "metadata": {},
     "output_type": "execute_result"
    }
   ],
   "source": [
    "#Running gridSearchVC\n",
    "reg_grid.fit(train_X,train_y)"
   ]
  },
  {
   "cell_type": "code",
   "execution_count": 47,
   "metadata": {},
   "outputs": [
    {
     "data": {
      "text/plain": [
       "{'C': 0.0001, 'max_iter': 1000, 'penalty': 'none', 'solver': 'lbfgs'}"
      ]
     },
     "execution_count": 47,
     "metadata": {},
     "output_type": "execute_result"
    }
   ],
   "source": [
    "reg_grid.best_params_  # Parameter setting that gave the best results"
   ]
  },
  {
   "cell_type": "code",
   "execution_count": 48,
   "metadata": {},
   "outputs": [
    {
     "data": {
      "text/plain": [
       "LogisticRegression(C=0.0001, max_iter=1000, penalty='none')"
      ]
     },
     "execution_count": 48,
     "metadata": {},
     "output_type": "execute_result"
    }
   ],
   "source": [
    "reg_grid.best_estimator_  # Best hyperparameter accuracy for the algorithm algorithm"
   ]
  },
  {
   "cell_type": "code",
   "execution_count": 49,
   "metadata": {},
   "outputs": [],
   "source": [
    "grid_predictionsReg = reg_grid.predict(test_X)"
   ]
  },
  {
   "cell_type": "code",
   "execution_count": 50,
   "metadata": {},
   "outputs": [
    {
     "name": "stdout",
     "output_type": "stream",
     "text": [
      "[[ 45  58]\n",
      " [  4 200]] \n",
      " with accuracy  0.824068786090488\n"
     ]
    }
   ],
   "source": [
    "print(confusion_matrix(test_y,grid_predictionsReg),'\\n with accuracy ',reg_grid.best_score_)"
   ]
  },
  {
   "cell_type": "markdown",
   "metadata": {},
   "source": [
    "# NOW USING THE SVM ML ALGORITHM "
   ]
  },
  {
   "cell_type": "code",
   "execution_count": 51,
   "metadata": {},
   "outputs": [],
   "source": [
    "from sklearn.svm import SVC\n",
    "svm_model = SVC(C= 1, gamma= 0.01, kernel= 'rbf', random_state=42)"
   ]
  },
  {
   "cell_type": "code",
   "execution_count": 52,
   "metadata": {},
   "outputs": [
    {
     "data": {
      "text/plain": [
       "SVC(C=1, gamma=0.01, random_state=42)"
      ]
     },
     "execution_count": 52,
     "metadata": {},
     "output_type": "execute_result"
    }
   ],
   "source": [
    "svm_model.fit(train_X,train_y)"
   ]
  },
  {
   "cell_type": "code",
   "execution_count": 53,
   "metadata": {},
   "outputs": [],
   "source": [
    "prediction_svm = svm_model.predict(test_X)"
   ]
  },
  {
   "cell_type": "code",
   "execution_count": 54,
   "metadata": {},
   "outputs": [
    {
     "name": "stdout",
     "output_type": "stream",
     "text": [
      "[[  0 103]\n",
      " [  0 204]]\n"
     ]
    }
   ],
   "source": [
    "print(confusion_matrix(test_y,prediction_svm))"
   ]
  },
  {
   "cell_type": "markdown",
   "metadata": {},
   "source": [
    "# Now Using GridSearchCV for finding the best model with the best hyperparameters"
   ]
  },
  {
   "cell_type": "code",
   "execution_count": 57,
   "metadata": {},
   "outputs": [],
   "source": [
    "param_grid_svm = {'C': [0.1,1, 10, 100, 1000], 'gamma': [1,0.1,0.01,0.001,0.0001], 'kernel': ['rbf']} "
   ]
  },
  {
   "cell_type": "code",
   "execution_count": 58,
   "metadata": {},
   "outputs": [],
   "source": [
    "#Creating Parameter Grid\n",
    "grid_svm = GridSearchCV(SVC(),param_grid_svm,refit=True,verbose=3)"
   ]
  },
  {
   "cell_type": "code",
   "execution_count": 59,
   "metadata": {},
   "outputs": [
    {
     "name": "stdout",
     "output_type": "stream",
     "text": [
      "Fitting 5 folds for each of 25 candidates, totalling 125 fits\n",
      "[CV] C=0.1, gamma=1, kernel=rbf ......................................\n",
      "[CV] .......... C=0.1, gamma=1, kernel=rbf, score=0.710, total=   0.0s\n",
      "[CV] C=0.1, gamma=1, kernel=rbf ......................................\n",
      "[CV] .......... C=0.1, gamma=1, kernel=rbf, score=0.710, total=   0.0s\n",
      "[CV] C=0.1, gamma=1, kernel=rbf ......................................\n",
      "[CV] .......... C=0.1, gamma=1, kernel=rbf, score=0.721, total=   0.0s\n",
      "[CV] C=0.1, gamma=1, kernel=rbf ......................................\n",
      "[CV] .......... C=0.1, gamma=1, kernel=rbf, score=0.705, total=   0.0s\n",
      "[CV] C=0.1, gamma=1, kernel=rbf ......................................\n",
      "[CV] .......... C=0.1, gamma=1, kernel=rbf, score=0.705, total=   0.0s\n",
      "[CV] C=0.1, gamma=0.1, kernel=rbf ....................................\n",
      "[CV] ........ C=0.1, gamma=0.1, kernel=rbf, score=0.710, total=   0.0s\n",
      "[CV] C=0.1, gamma=0.1, kernel=rbf ....................................\n",
      "[CV] ........ C=0.1, gamma=0.1, kernel=rbf, score=0.710, total=   0.0s\n",
      "[CV] C=0.1, gamma=0.1, kernel=rbf ....................................\n",
      "[CV] ........ C=0.1, gamma=0.1, kernel=rbf, score=0.721, total=   0.0s\n",
      "[CV] C=0.1, gamma=0.1, kernel=rbf ....................................\n",
      "[CV] ........ C=0.1, gamma=0.1, kernel=rbf, score=0.705, total=   0.0s\n",
      "[CV] C=0.1, gamma=0.1, kernel=rbf ....................................\n",
      "[CV] ........ C=0.1, gamma=0.1, kernel=rbf, score=0.705, total=   0.0s\n",
      "[CV] C=0.1, gamma=0.01, kernel=rbf ...................................\n",
      "[CV] ....... C=0.1, gamma=0.01, kernel=rbf, score=0.710, total=   0.0s\n",
      "[CV] C=0.1, gamma=0.01, kernel=rbf ...................................\n",
      "[CV] ....... C=0.1, gamma=0.01, kernel=rbf, score=0.710, total=   0.0s\n",
      "[CV] C=0.1, gamma=0.01, kernel=rbf ...................................\n",
      "[CV] ....... C=0.1, gamma=0.01, kernel=rbf, score=0.721, total=   0.0s\n",
      "[CV] C=0.1, gamma=0.01, kernel=rbf ...................................\n",
      "[CV] ....... C=0.1, gamma=0.01, kernel=rbf, score=0.705, total=   0.0s\n",
      "[CV] C=0.1, gamma=0.01, kernel=rbf ...................................\n",
      "[CV] ....... C=0.1, gamma=0.01, kernel=rbf, score=0.705, total=   0.0s\n",
      "[CV] C=0.1, gamma=0.001, kernel=rbf ..................................\n",
      "[CV] ...... C=0.1, gamma=0.001, kernel=rbf, score=0.710, total=   0.0s\n",
      "[CV] C=0.1, gamma=0.001, kernel=rbf ..................................\n",
      "[CV] ...... C=0.1, gamma=0.001, kernel=rbf, score=0.710, total=   0.0s\n",
      "[CV] C=0.1, gamma=0.001, kernel=rbf ..................................\n",
      "[CV] ...... C=0.1, gamma=0.001, kernel=rbf, score=0.721, total=   0.0s\n",
      "[CV] C=0.1, gamma=0.001, kernel=rbf ..................................\n"
     ]
    },
    {
     "name": "stderr",
     "output_type": "stream",
     "text": [
      "[Parallel(n_jobs=1)]: Using backend SequentialBackend with 1 concurrent workers.\n",
      "[Parallel(n_jobs=1)]: Done   1 out of   1 | elapsed:    0.0s remaining:    0.0s\n",
      "[Parallel(n_jobs=1)]: Done   2 out of   2 | elapsed:    0.0s remaining:    0.0s\n"
     ]
    },
    {
     "name": "stdout",
     "output_type": "stream",
     "text": [
      "[CV] ...... C=0.1, gamma=0.001, kernel=rbf, score=0.705, total=   0.0s\n",
      "[CV] C=0.1, gamma=0.001, kernel=rbf ..................................\n",
      "[CV] ...... C=0.1, gamma=0.001, kernel=rbf, score=0.705, total=   0.0s\n",
      "[CV] C=0.1, gamma=0.0001, kernel=rbf .................................\n",
      "[CV] ..... C=0.1, gamma=0.0001, kernel=rbf, score=0.710, total=   0.0s\n",
      "[CV] C=0.1, gamma=0.0001, kernel=rbf .................................\n",
      "[CV] ..... C=0.1, gamma=0.0001, kernel=rbf, score=0.710, total=   0.0s\n",
      "[CV] C=0.1, gamma=0.0001, kernel=rbf .................................\n",
      "[CV] ..... C=0.1, gamma=0.0001, kernel=rbf, score=0.721, total=   0.0s\n",
      "[CV] C=0.1, gamma=0.0001, kernel=rbf .................................\n",
      "[CV] ..... C=0.1, gamma=0.0001, kernel=rbf, score=0.705, total=   0.0s\n",
      "[CV] C=0.1, gamma=0.0001, kernel=rbf .................................\n",
      "[CV] ..... C=0.1, gamma=0.0001, kernel=rbf, score=0.705, total=   0.0s\n",
      "[CV] C=1, gamma=1, kernel=rbf ........................................\n",
      "[CV] ............ C=1, gamma=1, kernel=rbf, score=0.710, total=   0.0s\n",
      "[CV] C=1, gamma=1, kernel=rbf ........................................\n",
      "[CV] ............ C=1, gamma=1, kernel=rbf, score=0.710, total=   0.0s\n",
      "[CV] C=1, gamma=1, kernel=rbf ........................................\n",
      "[CV] ............ C=1, gamma=1, kernel=rbf, score=0.721, total=   0.0s\n",
      "[CV] C=1, gamma=1, kernel=rbf ........................................\n",
      "[CV] ............ C=1, gamma=1, kernel=rbf, score=0.705, total=   0.0s\n",
      "[CV] C=1, gamma=1, kernel=rbf ........................................\n",
      "[CV] ............ C=1, gamma=1, kernel=rbf, score=0.705, total=   0.0s\n",
      "[CV] C=1, gamma=0.1, kernel=rbf ......................................\n",
      "[CV] .......... C=1, gamma=0.1, kernel=rbf, score=0.710, total=   0.0s\n",
      "[CV] C=1, gamma=0.1, kernel=rbf ......................................\n",
      "[CV] .......... C=1, gamma=0.1, kernel=rbf, score=0.710, total=   0.0s\n",
      "[CV] C=1, gamma=0.1, kernel=rbf ......................................\n",
      "[CV] .......... C=1, gamma=0.1, kernel=rbf, score=0.721, total=   0.0s\n",
      "[CV] C=1, gamma=0.1, kernel=rbf ......................................\n",
      "[CV] .......... C=1, gamma=0.1, kernel=rbf, score=0.705, total=   0.0s\n",
      "[CV] C=1, gamma=0.1, kernel=rbf ......................................\n",
      "[CV] .......... C=1, gamma=0.1, kernel=rbf, score=0.705, total=   0.0s\n",
      "[CV] C=1, gamma=0.01, kernel=rbf .....................................\n",
      "[CV] ......... C=1, gamma=0.01, kernel=rbf, score=0.710, total=   0.0s\n",
      "[CV] C=1, gamma=0.01, kernel=rbf .....................................\n",
      "[CV] ......... C=1, gamma=0.01, kernel=rbf, score=0.710, total=   0.0s\n",
      "[CV] C=1, gamma=0.01, kernel=rbf .....................................\n",
      "[CV] ......... C=1, gamma=0.01, kernel=rbf, score=0.705, total=   0.0s\n",
      "[CV] C=1, gamma=0.01, kernel=rbf .....................................\n",
      "[CV] ......... C=1, gamma=0.01, kernel=rbf, score=0.705, total=   0.0s\n",
      "[CV] C=1, gamma=0.01, kernel=rbf .....................................\n",
      "[CV] ......... C=1, gamma=0.01, kernel=rbf, score=0.705, total=   0.0s\n",
      "[CV] C=1, gamma=0.001, kernel=rbf ....................................\n",
      "[CV] ........ C=1, gamma=0.001, kernel=rbf, score=0.710, total=   0.0s\n",
      "[CV] C=1, gamma=0.001, kernel=rbf ....................................\n",
      "[CV] ........ C=1, gamma=0.001, kernel=rbf, score=0.694, total=   0.0s\n",
      "[CV] C=1, gamma=0.001, kernel=rbf ....................................\n",
      "[CV] ........ C=1, gamma=0.001, kernel=rbf, score=0.738, total=   0.0s\n",
      "[CV] C=1, gamma=0.001, kernel=rbf ....................................\n",
      "[CV] ........ C=1, gamma=0.001, kernel=rbf, score=0.689, total=   0.0s\n",
      "[CV] C=1, gamma=0.001, kernel=rbf ....................................\n",
      "[CV] ........ C=1, gamma=0.001, kernel=rbf, score=0.721, total=   0.0s\n",
      "[CV] C=1, gamma=0.0001, kernel=rbf ...................................\n",
      "[CV] ....... C=1, gamma=0.0001, kernel=rbf, score=0.677, total=   0.0s\n",
      "[CV] C=1, gamma=0.0001, kernel=rbf ...................................\n",
      "[CV] ....... C=1, gamma=0.0001, kernel=rbf, score=0.710, total=   0.0s\n",
      "[CV] C=1, gamma=0.0001, kernel=rbf ...................................\n",
      "[CV] ....... C=1, gamma=0.0001, kernel=rbf, score=0.721, total=   0.0s\n",
      "[CV] C=1, gamma=0.0001, kernel=rbf ...................................\n",
      "[CV] ....... C=1, gamma=0.0001, kernel=rbf, score=0.721, total=   0.0s\n",
      "[CV] C=1, gamma=0.0001, kernel=rbf ...................................\n",
      "[CV] ....... C=1, gamma=0.0001, kernel=rbf, score=0.721, total=   0.0s\n",
      "[CV] C=10, gamma=1, kernel=rbf .......................................\n",
      "[CV] ........... C=10, gamma=1, kernel=rbf, score=0.710, total=   0.0s\n",
      "[CV] C=10, gamma=1, kernel=rbf .......................................\n",
      "[CV] ........... C=10, gamma=1, kernel=rbf, score=0.710, total=   0.0s\n",
      "[CV] C=10, gamma=1, kernel=rbf .......................................\n",
      "[CV] ........... C=10, gamma=1, kernel=rbf, score=0.721, total=   0.0s\n",
      "[CV] C=10, gamma=1, kernel=rbf .......................................\n",
      "[CV] ........... C=10, gamma=1, kernel=rbf, score=0.705, total=   0.0s\n",
      "[CV] C=10, gamma=1, kernel=rbf .......................................\n",
      "[CV] ........... C=10, gamma=1, kernel=rbf, score=0.705, total=   0.0s\n",
      "[CV] C=10, gamma=0.1, kernel=rbf .....................................\n",
      "[CV] ......... C=10, gamma=0.1, kernel=rbf, score=0.710, total=   0.0s\n",
      "[CV] C=10, gamma=0.1, kernel=rbf .....................................\n",
      "[CV] ......... C=10, gamma=0.1, kernel=rbf, score=0.710, total=   0.0s\n",
      "[CV] C=10, gamma=0.1, kernel=rbf .....................................\n",
      "[CV] ......... C=10, gamma=0.1, kernel=rbf, score=0.721, total=   0.0s\n",
      "[CV] C=10, gamma=0.1, kernel=rbf .....................................\n",
      "[CV] ......... C=10, gamma=0.1, kernel=rbf, score=0.705, total=   0.0s\n",
      "[CV] C=10, gamma=0.1, kernel=rbf .....................................\n",
      "[CV] ......... C=10, gamma=0.1, kernel=rbf, score=0.705, total=   0.0s\n",
      "[CV] C=10, gamma=0.01, kernel=rbf ....................................\n",
      "[CV] ........ C=10, gamma=0.01, kernel=rbf, score=0.710, total=   0.0s\n",
      "[CV] C=10, gamma=0.01, kernel=rbf ....................................\n",
      "[CV] ........ C=10, gamma=0.01, kernel=rbf, score=0.710, total=   0.0s\n",
      "[CV] C=10, gamma=0.01, kernel=rbf ....................................\n",
      "[CV] ........ C=10, gamma=0.01, kernel=rbf, score=0.705, total=   0.0s\n",
      "[CV] C=10, gamma=0.01, kernel=rbf ....................................\n",
      "[CV] ........ C=10, gamma=0.01, kernel=rbf, score=0.705, total=   0.0s\n",
      "[CV] C=10, gamma=0.01, kernel=rbf ....................................\n",
      "[CV] ........ C=10, gamma=0.01, kernel=rbf, score=0.721, total=   0.0s\n",
      "[CV] C=10, gamma=0.001, kernel=rbf ...................................\n",
      "[CV] ....... C=10, gamma=0.001, kernel=rbf, score=0.710, total=   0.0s\n",
      "[CV] C=10, gamma=0.001, kernel=rbf ...................................\n",
      "[CV] ....... C=10, gamma=0.001, kernel=rbf, score=0.710, total=   0.0s\n",
      "[CV] C=10, gamma=0.001, kernel=rbf ...................................\n",
      "[CV] ....... C=10, gamma=0.001, kernel=rbf, score=0.705, total=   0.0s\n",
      "[CV] C=10, gamma=0.001, kernel=rbf ...................................\n",
      "[CV] ....... C=10, gamma=0.001, kernel=rbf, score=0.689, total=   0.0s\n",
      "[CV] C=10, gamma=0.001, kernel=rbf ...................................\n",
      "[CV] ....... C=10, gamma=0.001, kernel=rbf, score=0.738, total=   0.0s\n",
      "[CV] C=10, gamma=0.0001, kernel=rbf ..................................\n",
      "[CV] ...... C=10, gamma=0.0001, kernel=rbf, score=0.694, total=   0.0s\n",
      "[CV] C=10, gamma=0.0001, kernel=rbf ..................................\n",
      "[CV] ...... C=10, gamma=0.0001, kernel=rbf, score=0.661, total=   0.0s\n",
      "[CV] C=10, gamma=0.0001, kernel=rbf ..................................\n",
      "[CV] ...... C=10, gamma=0.0001, kernel=rbf, score=0.689, total=   0.0s\n",
      "[CV] C=10, gamma=0.0001, kernel=rbf ..................................\n",
      "[CV] ...... C=10, gamma=0.0001, kernel=rbf, score=0.705, total=   0.0s\n",
      "[CV] C=10, gamma=0.0001, kernel=rbf ..................................\n",
      "[CV] ...... C=10, gamma=0.0001, kernel=rbf, score=0.721, total=   0.0s\n",
      "[CV] C=100, gamma=1, kernel=rbf ......................................\n",
      "[CV] .......... C=100, gamma=1, kernel=rbf, score=0.710, total=   0.0s\n",
      "[CV] C=100, gamma=1, kernel=rbf ......................................\n",
      "[CV] .......... C=100, gamma=1, kernel=rbf, score=0.710, total=   0.0s\n",
      "[CV] C=100, gamma=1, kernel=rbf ......................................\n",
      "[CV] .......... C=100, gamma=1, kernel=rbf, score=0.721, total=   0.0s\n",
      "[CV] C=100, gamma=1, kernel=rbf ......................................\n",
      "[CV] .......... C=100, gamma=1, kernel=rbf, score=0.705, total=   0.0s\n",
      "[CV] C=100, gamma=1, kernel=rbf ......................................\n",
      "[CV] .......... C=100, gamma=1, kernel=rbf, score=0.705, total=   0.0s\n",
      "[CV] C=100, gamma=0.1, kernel=rbf ....................................\n",
      "[CV] ........ C=100, gamma=0.1, kernel=rbf, score=0.710, total=   0.0s\n",
      "[CV] C=100, gamma=0.1, kernel=rbf ....................................\n",
      "[CV] ........ C=100, gamma=0.1, kernel=rbf, score=0.710, total=   0.0s\n",
      "[CV] C=100, gamma=0.1, kernel=rbf ....................................\n",
      "[CV] ........ C=100, gamma=0.1, kernel=rbf, score=0.721, total=   0.0s\n",
      "[CV] C=100, gamma=0.1, kernel=rbf ....................................\n",
      "[CV] ........ C=100, gamma=0.1, kernel=rbf, score=0.705, total=   0.0s\n",
      "[CV] C=100, gamma=0.1, kernel=rbf ....................................\n",
      "[CV] ........ C=100, gamma=0.1, kernel=rbf, score=0.705, total=   0.0s\n",
      "[CV] C=100, gamma=0.01, kernel=rbf ...................................\n",
      "[CV] ....... C=100, gamma=0.01, kernel=rbf, score=0.710, total=   0.0s\n",
      "[CV] C=100, gamma=0.01, kernel=rbf ...................................\n",
      "[CV] ....... C=100, gamma=0.01, kernel=rbf, score=0.710, total=   0.0s\n",
      "[CV] C=100, gamma=0.01, kernel=rbf ...................................\n",
      "[CV] ....... C=100, gamma=0.01, kernel=rbf, score=0.705, total=   0.0s\n",
      "[CV] C=100, gamma=0.01, kernel=rbf ...................................\n",
      "[CV] ....... C=100, gamma=0.01, kernel=rbf, score=0.705, total=   0.0s\n",
      "[CV] C=100, gamma=0.01, kernel=rbf ...................................\n",
      "[CV] ....... C=100, gamma=0.01, kernel=rbf, score=0.721, total=   0.0s\n",
      "[CV] C=100, gamma=0.001, kernel=rbf ..................................\n",
      "[CV] ...... C=100, gamma=0.001, kernel=rbf, score=0.710, total=   0.0s\n",
      "[CV] C=100, gamma=0.001, kernel=rbf ..................................\n",
      "[CV] ...... C=100, gamma=0.001, kernel=rbf, score=0.710, total=   0.0s\n",
      "[CV] C=100, gamma=0.001, kernel=rbf ..................................\n",
      "[CV] ...... C=100, gamma=0.001, kernel=rbf, score=0.705, total=   0.0s\n",
      "[CV] C=100, gamma=0.001, kernel=rbf ..................................\n",
      "[CV] ...... C=100, gamma=0.001, kernel=rbf, score=0.689, total=   0.0s\n",
      "[CV] C=100, gamma=0.001, kernel=rbf ..................................\n",
      "[CV] ...... C=100, gamma=0.001, kernel=rbf, score=0.754, total=   0.0s\n",
      "[CV] C=100, gamma=0.0001, kernel=rbf .................................\n",
      "[CV] ..... C=100, gamma=0.0001, kernel=rbf, score=0.694, total=   0.0s\n",
      "[CV] C=100, gamma=0.0001, kernel=rbf .................................\n",
      "[CV] ..... C=100, gamma=0.0001, kernel=rbf, score=0.677, total=   0.0s\n",
      "[CV] C=100, gamma=0.0001, kernel=rbf .................................\n",
      "[CV] ..... C=100, gamma=0.0001, kernel=rbf, score=0.689, total=   0.0s\n",
      "[CV] C=100, gamma=0.0001, kernel=rbf .................................\n",
      "[CV] ..... C=100, gamma=0.0001, kernel=rbf, score=0.705, total=   0.0s\n",
      "[CV] C=100, gamma=0.0001, kernel=rbf .................................\n",
      "[CV] ..... C=100, gamma=0.0001, kernel=rbf, score=0.738, total=   0.0s\n",
      "[CV] C=1000, gamma=1, kernel=rbf .....................................\n",
      "[CV] ......... C=1000, gamma=1, kernel=rbf, score=0.710, total=   0.0s\n",
      "[CV] C=1000, gamma=1, kernel=rbf .....................................\n",
      "[CV] ......... C=1000, gamma=1, kernel=rbf, score=0.710, total=   0.0s\n",
      "[CV] C=1000, gamma=1, kernel=rbf .....................................\n",
      "[CV] ......... C=1000, gamma=1, kernel=rbf, score=0.721, total=   0.0s\n",
      "[CV] C=1000, gamma=1, kernel=rbf .....................................\n",
      "[CV] ......... C=1000, gamma=1, kernel=rbf, score=0.705, total=   0.0s\n",
      "[CV] C=1000, gamma=1, kernel=rbf .....................................\n",
      "[CV] ......... C=1000, gamma=1, kernel=rbf, score=0.705, total=   0.0s\n",
      "[CV] C=1000, gamma=0.1, kernel=rbf ...................................\n",
      "[CV] ....... C=1000, gamma=0.1, kernel=rbf, score=0.710, total=   0.0s\n",
      "[CV] C=1000, gamma=0.1, kernel=rbf ...................................\n",
      "[CV] ....... C=1000, gamma=0.1, kernel=rbf, score=0.710, total=   0.0s\n",
      "[CV] C=1000, gamma=0.1, kernel=rbf ...................................\n",
      "[CV] ....... C=1000, gamma=0.1, kernel=rbf, score=0.721, total=   0.0s\n",
      "[CV] C=1000, gamma=0.1, kernel=rbf ...................................\n",
      "[CV] ....... C=1000, gamma=0.1, kernel=rbf, score=0.705, total=   0.0s\n",
      "[CV] C=1000, gamma=0.1, kernel=rbf ...................................\n",
      "[CV] ....... C=1000, gamma=0.1, kernel=rbf, score=0.705, total=   0.0s\n",
      "[CV] C=1000, gamma=0.01, kernel=rbf ..................................\n",
      "[CV] ...... C=1000, gamma=0.01, kernel=rbf, score=0.710, total=   0.0s\n",
      "[CV] C=1000, gamma=0.01, kernel=rbf ..................................\n",
      "[CV] ...... C=1000, gamma=0.01, kernel=rbf, score=0.710, total=   0.0s\n",
      "[CV] C=1000, gamma=0.01, kernel=rbf ..................................\n",
      "[CV] ...... C=1000, gamma=0.01, kernel=rbf, score=0.705, total=   0.0s\n",
      "[CV] C=1000, gamma=0.01, kernel=rbf ..................................\n",
      "[CV] ...... C=1000, gamma=0.01, kernel=rbf, score=0.705, total=   0.0s\n",
      "[CV] C=1000, gamma=0.01, kernel=rbf ..................................\n",
      "[CV] ...... C=1000, gamma=0.01, kernel=rbf, score=0.721, total=   0.0s\n",
      "[CV] C=1000, gamma=0.001, kernel=rbf .................................\n",
      "[CV] ..... C=1000, gamma=0.001, kernel=rbf, score=0.710, total=   0.0s\n",
      "[CV] C=1000, gamma=0.001, kernel=rbf .................................\n",
      "[CV] ..... C=1000, gamma=0.001, kernel=rbf, score=0.710, total=   0.0s\n",
      "[CV] C=1000, gamma=0.001, kernel=rbf .................................\n",
      "[CV] ..... C=1000, gamma=0.001, kernel=rbf, score=0.705, total=   0.0s\n",
      "[CV] C=1000, gamma=0.001, kernel=rbf .................................\n",
      "[CV] ..... C=1000, gamma=0.001, kernel=rbf, score=0.689, total=   0.0s\n",
      "[CV] C=1000, gamma=0.001, kernel=rbf .................................\n",
      "[CV] ..... C=1000, gamma=0.001, kernel=rbf, score=0.754, total=   0.0s\n",
      "[CV] C=1000, gamma=0.0001, kernel=rbf ................................\n",
      "[CV] .... C=1000, gamma=0.0001, kernel=rbf, score=0.694, total=   0.0s\n",
      "[CV] C=1000, gamma=0.0001, kernel=rbf ................................\n",
      "[CV] .... C=1000, gamma=0.0001, kernel=rbf, score=0.677, total=   0.0s\n",
      "[CV] C=1000, gamma=0.0001, kernel=rbf ................................\n",
      "[CV] .... C=1000, gamma=0.0001, kernel=rbf, score=0.689, total=   0.0s\n",
      "[CV] C=1000, gamma=0.0001, kernel=rbf ................................\n",
      "[CV] .... C=1000, gamma=0.0001, kernel=rbf, score=0.705, total=   0.0s\n",
      "[CV] C=1000, gamma=0.0001, kernel=rbf ................................\n",
      "[CV] .... C=1000, gamma=0.0001, kernel=rbf, score=0.770, total=   0.0s\n"
     ]
    },
    {
     "name": "stderr",
     "output_type": "stream",
     "text": [
      "[Parallel(n_jobs=1)]: Done 125 out of 125 | elapsed:    1.0s finished\n"
     ]
    },
    {
     "data": {
      "text/plain": [
       "GridSearchCV(estimator=SVC(),\n",
       "             param_grid={'C': [0.1, 1, 10, 100, 1000],\n",
       "                         'gamma': [1, 0.1, 0.01, 0.001, 0.0001],\n",
       "                         'kernel': ['rbf']},\n",
       "             verbose=3)"
      ]
     },
     "execution_count": 59,
     "metadata": {},
     "output_type": "execute_result"
    }
   ],
   "source": [
    "#Running gridSearchVC\n",
    "grid_svm.fit(train_X,train_y)"
   ]
  },
  {
   "cell_type": "code",
   "execution_count": 60,
   "metadata": {},
   "outputs": [
    {
     "data": {
      "text/plain": [
       "{'C': 100, 'gamma': 0.001, 'kernel': 'rbf'}"
      ]
     },
     "execution_count": 60,
     "metadata": {},
     "output_type": "execute_result"
    }
   ],
   "source": [
    "grid_svm.best_params_  # Parameter setting that gave the best results"
   ]
  },
  {
   "cell_type": "code",
   "execution_count": 61,
   "metadata": {},
   "outputs": [
    {
     "data": {
      "text/plain": [
       "SVC(C=100, gamma=0.001)"
      ]
     },
     "execution_count": 61,
     "metadata": {},
     "output_type": "execute_result"
    }
   ],
   "source": [
    "grid_svm.best_estimator_  # Best hyperparameter accuracy for the algorithm algorithm"
   ]
  },
  {
   "cell_type": "code",
   "execution_count": 62,
   "metadata": {},
   "outputs": [],
   "source": [
    "grid_prediction_svm = grid.predict(test_X)"
   ]
  },
  {
   "cell_type": "code",
   "execution_count": 63,
   "metadata": {},
   "outputs": [
    {
     "name": "stdout",
     "output_type": "stream",
     "text": [
      "[[ 43  60]\n",
      " [  4 200]] \n",
      " with accuracy  0.713379164463247\n"
     ]
    }
   ],
   "source": [
    "print(confusion_matrix(test_y,grid_prediction_svm),'\\n with accuracy ',grid_svm.best_score_)"
   ]
  },
  {
   "cell_type": "markdown",
   "metadata": {},
   "source": [
    "# NOW USING THE RANDOM FOREST ML ALGORITHM "
   ]
  },
  {
   "cell_type": "code",
   "execution_count": 64,
   "metadata": {},
   "outputs": [],
   "source": [
    "from sklearn.ensemble import RandomForestClassifier\n",
    "rf_model = RandomForestClassifier(random_state =0, n_estimators=100)"
   ]
  },
  {
   "cell_type": "code",
   "execution_count": 65,
   "metadata": {},
   "outputs": [
    {
     "data": {
      "text/plain": [
       "RandomForestClassifier(random_state=0)"
      ]
     },
     "execution_count": 65,
     "metadata": {},
     "output_type": "execute_result"
    }
   ],
   "source": [
    "rf_model.fit(train_X,train_y)"
   ]
  },
  {
   "cell_type": "code",
   "execution_count": 66,
   "metadata": {},
   "outputs": [],
   "source": [
    "prediction_rf = rf_model.predict(test_X)"
   ]
  },
  {
   "cell_type": "code",
   "execution_count": 67,
   "metadata": {},
   "outputs": [
    {
     "name": "stdout",
     "output_type": "stream",
     "text": [
      "[[ 43  60]\n",
      " [ 11 193]]\n"
     ]
    }
   ],
   "source": [
    "print(confusion_matrix(test_y,prediction_rf))"
   ]
  },
  {
   "cell_type": "markdown",
   "metadata": {},
   "source": [
    "# Now Using GridSearchCV for finding the best model with the best hyperparameters"
   ]
  },
  {
   "cell_type": "code",
   "execution_count": 74,
   "metadata": {},
   "outputs": [],
   "source": [
    "param_grid_rf = {'bootstrap': [True, False],\n",
    " 'max_depth': [10, 20, 30, 40, 50, 60, 70, 80, 90, 100, None],\n",
    "\n",
    " 'n_estimators': [200, 400, 600, 800, 1000]}"
   ]
  },
  {
   "cell_type": "code",
   "execution_count": 75,
   "metadata": {},
   "outputs": [],
   "source": [
    "#Creating Parameter Grid\n",
    "grid_rf = GridSearchCV(estimator = rf_model, param_grid = param_grid_rf,  cv = 3, verbose=2)"
   ]
  },
  {
   "cell_type": "code",
   "execution_count": 76,
   "metadata": {},
   "outputs": [
    {
     "name": "stdout",
     "output_type": "stream",
     "text": [
      "Fitting 3 folds for each of 110 candidates, totalling 330 fits\n",
      "[CV] bootstrap=True, max_depth=10, n_estimators=200 ..................\n"
     ]
    },
    {
     "name": "stderr",
     "output_type": "stream",
     "text": [
      "[Parallel(n_jobs=1)]: Using backend SequentialBackend with 1 concurrent workers.\n"
     ]
    },
    {
     "name": "stdout",
     "output_type": "stream",
     "text": [
      "[CV] ... bootstrap=True, max_depth=10, n_estimators=200, total=   0.3s\n",
      "[CV] bootstrap=True, max_depth=10, n_estimators=200 ..................\n"
     ]
    },
    {
     "name": "stderr",
     "output_type": "stream",
     "text": [
      "[Parallel(n_jobs=1)]: Done   1 out of   1 | elapsed:    0.3s remaining:    0.0s\n"
     ]
    },
    {
     "name": "stdout",
     "output_type": "stream",
     "text": [
      "[CV] ... bootstrap=True, max_depth=10, n_estimators=200, total=   0.2s\n",
      "[CV] bootstrap=True, max_depth=10, n_estimators=200 ..................\n",
      "[CV] ... bootstrap=True, max_depth=10, n_estimators=200, total=   0.2s\n",
      "[CV] bootstrap=True, max_depth=10, n_estimators=400 ..................\n",
      "[CV] ... bootstrap=True, max_depth=10, n_estimators=400, total=   0.4s\n",
      "[CV] bootstrap=True, max_depth=10, n_estimators=400 ..................\n",
      "[CV] ... bootstrap=True, max_depth=10, n_estimators=400, total=   0.4s\n",
      "[CV] bootstrap=True, max_depth=10, n_estimators=400 ..................\n",
      "[CV] ... bootstrap=True, max_depth=10, n_estimators=400, total=   0.5s\n",
      "[CV] bootstrap=True, max_depth=10, n_estimators=600 ..................\n",
      "[CV] ... bootstrap=True, max_depth=10, n_estimators=600, total=   0.7s\n",
      "[CV] bootstrap=True, max_depth=10, n_estimators=600 ..................\n",
      "[CV] ... bootstrap=True, max_depth=10, n_estimators=600, total=   0.6s\n",
      "[CV] bootstrap=True, max_depth=10, n_estimators=600 ..................\n",
      "[CV] ... bootstrap=True, max_depth=10, n_estimators=600, total=   0.8s\n",
      "[CV] bootstrap=True, max_depth=10, n_estimators=800 ..................\n",
      "[CV] ... bootstrap=True, max_depth=10, n_estimators=800, total=   0.9s\n",
      "[CV] bootstrap=True, max_depth=10, n_estimators=800 ..................\n",
      "[CV] ... bootstrap=True, max_depth=10, n_estimators=800, total=   0.9s\n",
      "[CV] bootstrap=True, max_depth=10, n_estimators=800 ..................\n",
      "[CV] ... bootstrap=True, max_depth=10, n_estimators=800, total=   0.9s\n",
      "[CV] bootstrap=True, max_depth=10, n_estimators=1000 .................\n",
      "[CV] .. bootstrap=True, max_depth=10, n_estimators=1000, total=   1.1s\n",
      "[CV] bootstrap=True, max_depth=10, n_estimators=1000 .................\n",
      "[CV] .. bootstrap=True, max_depth=10, n_estimators=1000, total=   1.1s\n",
      "[CV] bootstrap=True, max_depth=10, n_estimators=1000 .................\n",
      "[CV] .. bootstrap=True, max_depth=10, n_estimators=1000, total=   1.1s\n",
      "[CV] bootstrap=True, max_depth=20, n_estimators=200 ..................\n",
      "[CV] ... bootstrap=True, max_depth=20, n_estimators=200, total=   0.3s\n",
      "[CV] bootstrap=True, max_depth=20, n_estimators=200 ..................\n",
      "[CV] ... bootstrap=True, max_depth=20, n_estimators=200, total=   0.2s\n",
      "[CV] bootstrap=True, max_depth=20, n_estimators=200 ..................\n",
      "[CV] ... bootstrap=True, max_depth=20, n_estimators=200, total=   0.2s\n",
      "[CV] bootstrap=True, max_depth=20, n_estimators=400 ..................\n",
      "[CV] ... bootstrap=True, max_depth=20, n_estimators=400, total=   0.4s\n",
      "[CV] bootstrap=True, max_depth=20, n_estimators=400 ..................\n",
      "[CV] ... bootstrap=True, max_depth=20, n_estimators=400, total=   0.4s\n",
      "[CV] bootstrap=True, max_depth=20, n_estimators=400 ..................\n",
      "[CV] ... bootstrap=True, max_depth=20, n_estimators=400, total=   0.4s\n",
      "[CV] bootstrap=True, max_depth=20, n_estimators=600 ..................\n",
      "[CV] ... bootstrap=True, max_depth=20, n_estimators=600, total=   0.7s\n",
      "[CV] bootstrap=True, max_depth=20, n_estimators=600 ..................\n",
      "[CV] ... bootstrap=True, max_depth=20, n_estimators=600, total=   0.7s\n",
      "[CV] bootstrap=True, max_depth=20, n_estimators=600 ..................\n",
      "[CV] ... bootstrap=True, max_depth=20, n_estimators=600, total=   0.7s\n",
      "[CV] bootstrap=True, max_depth=20, n_estimators=800 ..................\n",
      "[CV] ... bootstrap=True, max_depth=20, n_estimators=800, total=   0.9s\n",
      "[CV] bootstrap=True, max_depth=20, n_estimators=800 ..................\n",
      "[CV] ... bootstrap=True, max_depth=20, n_estimators=800, total=   0.9s\n",
      "[CV] bootstrap=True, max_depth=20, n_estimators=800 ..................\n",
      "[CV] ... bootstrap=True, max_depth=20, n_estimators=800, total=   0.9s\n",
      "[CV] bootstrap=True, max_depth=20, n_estimators=1000 .................\n",
      "[CV] .. bootstrap=True, max_depth=20, n_estimators=1000, total=   1.2s\n",
      "[CV] bootstrap=True, max_depth=20, n_estimators=1000 .................\n",
      "[CV] .. bootstrap=True, max_depth=20, n_estimators=1000, total=   1.1s\n",
      "[CV] bootstrap=True, max_depth=20, n_estimators=1000 .................\n",
      "[CV] .. bootstrap=True, max_depth=20, n_estimators=1000, total=   1.1s\n",
      "[CV] bootstrap=True, max_depth=30, n_estimators=200 ..................\n",
      "[CV] ... bootstrap=True, max_depth=30, n_estimators=200, total=   0.2s\n",
      "[CV] bootstrap=True, max_depth=30, n_estimators=200 ..................\n",
      "[CV] ... bootstrap=True, max_depth=30, n_estimators=200, total=   0.2s\n",
      "[CV] bootstrap=True, max_depth=30, n_estimators=200 ..................\n",
      "[CV] ... bootstrap=True, max_depth=30, n_estimators=200, total=   0.2s\n",
      "[CV] bootstrap=True, max_depth=30, n_estimators=400 ..................\n",
      "[CV] ... bootstrap=True, max_depth=30, n_estimators=400, total=   0.5s\n",
      "[CV] bootstrap=True, max_depth=30, n_estimators=400 ..................\n",
      "[CV] ... bootstrap=True, max_depth=30, n_estimators=400, total=   0.5s\n",
      "[CV] bootstrap=True, max_depth=30, n_estimators=400 ..................\n",
      "[CV] ... bootstrap=True, max_depth=30, n_estimators=400, total=   0.5s\n",
      "[CV] bootstrap=True, max_depth=30, n_estimators=600 ..................\n",
      "[CV] ... bootstrap=True, max_depth=30, n_estimators=600, total=   0.7s\n",
      "[CV] bootstrap=True, max_depth=30, n_estimators=600 ..................\n",
      "[CV] ... bootstrap=True, max_depth=30, n_estimators=600, total=   0.7s\n",
      "[CV] bootstrap=True, max_depth=30, n_estimators=600 ..................\n",
      "[CV] ... bootstrap=True, max_depth=30, n_estimators=600, total=   0.7s\n",
      "[CV] bootstrap=True, max_depth=30, n_estimators=800 ..................\n",
      "[CV] ... bootstrap=True, max_depth=30, n_estimators=800, total=   0.9s\n",
      "[CV] bootstrap=True, max_depth=30, n_estimators=800 ..................\n",
      "[CV] ... bootstrap=True, max_depth=30, n_estimators=800, total=   0.9s\n",
      "[CV] bootstrap=True, max_depth=30, n_estimators=800 ..................\n",
      "[CV] ... bootstrap=True, max_depth=30, n_estimators=800, total=   0.9s\n",
      "[CV] bootstrap=True, max_depth=30, n_estimators=1000 .................\n",
      "[CV] .. bootstrap=True, max_depth=30, n_estimators=1000, total=   1.3s\n",
      "[CV] bootstrap=True, max_depth=30, n_estimators=1000 .................\n",
      "[CV] .. bootstrap=True, max_depth=30, n_estimators=1000, total=   1.2s\n",
      "[CV] bootstrap=True, max_depth=30, n_estimators=1000 .................\n",
      "[CV] .. bootstrap=True, max_depth=30, n_estimators=1000, total=   1.2s\n",
      "[CV] bootstrap=True, max_depth=40, n_estimators=200 ..................\n",
      "[CV] ... bootstrap=True, max_depth=40, n_estimators=200, total=   0.2s\n",
      "[CV] bootstrap=True, max_depth=40, n_estimators=200 ..................\n",
      "[CV] ... bootstrap=True, max_depth=40, n_estimators=200, total=   0.2s\n",
      "[CV] bootstrap=True, max_depth=40, n_estimators=200 ..................\n",
      "[CV] ... bootstrap=True, max_depth=40, n_estimators=200, total=   0.2s\n",
      "[CV] bootstrap=True, max_depth=40, n_estimators=400 ..................\n",
      "[CV] ... bootstrap=True, max_depth=40, n_estimators=400, total=   0.5s\n",
      "[CV] bootstrap=True, max_depth=40, n_estimators=400 ..................\n",
      "[CV] ... bootstrap=True, max_depth=40, n_estimators=400, total=   0.5s\n",
      "[CV] bootstrap=True, max_depth=40, n_estimators=400 ..................\n",
      "[CV] ... bootstrap=True, max_depth=40, n_estimators=400, total=   0.5s\n",
      "[CV] bootstrap=True, max_depth=40, n_estimators=600 ..................\n",
      "[CV] ... bootstrap=True, max_depth=40, n_estimators=600, total=   0.7s\n",
      "[CV] bootstrap=True, max_depth=40, n_estimators=600 ..................\n",
      "[CV] ... bootstrap=True, max_depth=40, n_estimators=600, total=   0.7s\n",
      "[CV] bootstrap=True, max_depth=40, n_estimators=600 ..................\n",
      "[CV] ... bootstrap=True, max_depth=40, n_estimators=600, total=   0.7s\n",
      "[CV] bootstrap=True, max_depth=40, n_estimators=800 ..................\n",
      "[CV] ... bootstrap=True, max_depth=40, n_estimators=800, total=   1.0s\n",
      "[CV] bootstrap=True, max_depth=40, n_estimators=800 ..................\n",
      "[CV] ... bootstrap=True, max_depth=40, n_estimators=800, total=   0.9s\n",
      "[CV] bootstrap=True, max_depth=40, n_estimators=800 ..................\n",
      "[CV] ... bootstrap=True, max_depth=40, n_estimators=800, total=   0.9s\n",
      "[CV] bootstrap=True, max_depth=40, n_estimators=1000 .................\n",
      "[CV] .. bootstrap=True, max_depth=40, n_estimators=1000, total=   1.2s\n",
      "[CV] bootstrap=True, max_depth=40, n_estimators=1000 .................\n",
      "[CV] .. bootstrap=True, max_depth=40, n_estimators=1000, total=   1.2s\n",
      "[CV] bootstrap=True, max_depth=40, n_estimators=1000 .................\n",
      "[CV] .. bootstrap=True, max_depth=40, n_estimators=1000, total=   1.2s\n",
      "[CV] bootstrap=True, max_depth=50, n_estimators=200 ..................\n",
      "[CV] ... bootstrap=True, max_depth=50, n_estimators=200, total=   0.2s\n",
      "[CV] bootstrap=True, max_depth=50, n_estimators=200 ..................\n",
      "[CV] ... bootstrap=True, max_depth=50, n_estimators=200, total=   0.2s\n",
      "[CV] bootstrap=True, max_depth=50, n_estimators=200 ..................\n",
      "[CV] ... bootstrap=True, max_depth=50, n_estimators=200, total=   0.2s\n",
      "[CV] bootstrap=True, max_depth=50, n_estimators=400 ..................\n",
      "[CV] ... bootstrap=True, max_depth=50, n_estimators=400, total=   0.5s\n",
      "[CV] bootstrap=True, max_depth=50, n_estimators=400 ..................\n",
      "[CV] ... bootstrap=True, max_depth=50, n_estimators=400, total=   0.5s\n",
      "[CV] bootstrap=True, max_depth=50, n_estimators=400 ..................\n",
      "[CV] ... bootstrap=True, max_depth=50, n_estimators=400, total=   0.5s\n",
      "[CV] bootstrap=True, max_depth=50, n_estimators=600 ..................\n",
      "[CV] ... bootstrap=True, max_depth=50, n_estimators=600, total=   0.7s\n",
      "[CV] bootstrap=True, max_depth=50, n_estimators=600 ..................\n",
      "[CV] ... bootstrap=True, max_depth=50, n_estimators=600, total=   0.7s\n",
      "[CV] bootstrap=True, max_depth=50, n_estimators=600 ..................\n",
      "[CV] ... bootstrap=True, max_depth=50, n_estimators=600, total=   0.7s\n",
      "[CV] bootstrap=True, max_depth=50, n_estimators=800 ..................\n",
      "[CV] ... bootstrap=True, max_depth=50, n_estimators=800, total=   0.9s\n",
      "[CV] bootstrap=True, max_depth=50, n_estimators=800 ..................\n",
      "[CV] ... bootstrap=True, max_depth=50, n_estimators=800, total=   1.0s\n",
      "[CV] bootstrap=True, max_depth=50, n_estimators=800 ..................\n",
      "[CV] ... bootstrap=True, max_depth=50, n_estimators=800, total=   1.0s\n",
      "[CV] bootstrap=True, max_depth=50, n_estimators=1000 .................\n",
      "[CV] .. bootstrap=True, max_depth=50, n_estimators=1000, total=   1.2s\n",
      "[CV] bootstrap=True, max_depth=50, n_estimators=1000 .................\n",
      "[CV] .. bootstrap=True, max_depth=50, n_estimators=1000, total=   1.2s\n",
      "[CV] bootstrap=True, max_depth=50, n_estimators=1000 .................\n",
      "[CV] .. bootstrap=True, max_depth=50, n_estimators=1000, total=   1.2s\n",
      "[CV] bootstrap=True, max_depth=60, n_estimators=200 ..................\n",
      "[CV] ... bootstrap=True, max_depth=60, n_estimators=200, total=   0.3s\n",
      "[CV] bootstrap=True, max_depth=60, n_estimators=200 ..................\n",
      "[CV] ... bootstrap=True, max_depth=60, n_estimators=200, total=   0.2s\n",
      "[CV] bootstrap=True, max_depth=60, n_estimators=200 ..................\n",
      "[CV] ... bootstrap=True, max_depth=60, n_estimators=200, total=   0.2s\n",
      "[CV] bootstrap=True, max_depth=60, n_estimators=400 ..................\n",
      "[CV] ... bootstrap=True, max_depth=60, n_estimators=400, total=   0.5s\n",
      "[CV] bootstrap=True, max_depth=60, n_estimators=400 ..................\n",
      "[CV] ... bootstrap=True, max_depth=60, n_estimators=400, total=   0.5s\n",
      "[CV] bootstrap=True, max_depth=60, n_estimators=400 ..................\n",
      "[CV] ... bootstrap=True, max_depth=60, n_estimators=400, total=   0.5s\n",
      "[CV] bootstrap=True, max_depth=60, n_estimators=600 ..................\n",
      "[CV] ... bootstrap=True, max_depth=60, n_estimators=600, total=   0.7s\n",
      "[CV] bootstrap=True, max_depth=60, n_estimators=600 ..................\n",
      "[CV] ... bootstrap=True, max_depth=60, n_estimators=600, total=   0.7s\n",
      "[CV] bootstrap=True, max_depth=60, n_estimators=600 ..................\n",
      "[CV] ... bootstrap=True, max_depth=60, n_estimators=600, total=   0.8s\n",
      "[CV] bootstrap=True, max_depth=60, n_estimators=800 ..................\n",
      "[CV] ... bootstrap=True, max_depth=60, n_estimators=800, total=   0.9s\n",
      "[CV] bootstrap=True, max_depth=60, n_estimators=800 ..................\n",
      "[CV] ... bootstrap=True, max_depth=60, n_estimators=800, total=   0.9s\n",
      "[CV] bootstrap=True, max_depth=60, n_estimators=800 ..................\n",
      "[CV] ... bootstrap=True, max_depth=60, n_estimators=800, total=   1.0s\n",
      "[CV] bootstrap=True, max_depth=60, n_estimators=1000 .................\n",
      "[CV] .. bootstrap=True, max_depth=60, n_estimators=1000, total=   1.2s\n",
      "[CV] bootstrap=True, max_depth=60, n_estimators=1000 .................\n",
      "[CV] .. bootstrap=True, max_depth=60, n_estimators=1000, total=   1.2s\n",
      "[CV] bootstrap=True, max_depth=60, n_estimators=1000 .................\n",
      "[CV] .. bootstrap=True, max_depth=60, n_estimators=1000, total=   1.2s\n",
      "[CV] bootstrap=True, max_depth=70, n_estimators=200 ..................\n",
      "[CV] ... bootstrap=True, max_depth=70, n_estimators=200, total=   0.2s\n",
      "[CV] bootstrap=True, max_depth=70, n_estimators=200 ..................\n",
      "[CV] ... bootstrap=True, max_depth=70, n_estimators=200, total=   0.3s\n",
      "[CV] bootstrap=True, max_depth=70, n_estimators=200 ..................\n",
      "[CV] ... bootstrap=True, max_depth=70, n_estimators=200, total=   0.2s\n",
      "[CV] bootstrap=True, max_depth=70, n_estimators=400 ..................\n",
      "[CV] ... bootstrap=True, max_depth=70, n_estimators=400, total=   0.5s\n",
      "[CV] bootstrap=True, max_depth=70, n_estimators=400 ..................\n",
      "[CV] ... bootstrap=True, max_depth=70, n_estimators=400, total=   0.5s\n",
      "[CV] bootstrap=True, max_depth=70, n_estimators=400 ..................\n",
      "[CV] ... bootstrap=True, max_depth=70, n_estimators=400, total=   0.5s\n",
      "[CV] bootstrap=True, max_depth=70, n_estimators=600 ..................\n",
      "[CV] ... bootstrap=True, max_depth=70, n_estimators=600, total=   0.8s\n",
      "[CV] bootstrap=True, max_depth=70, n_estimators=600 ..................\n",
      "[CV] ... bootstrap=True, max_depth=70, n_estimators=600, total=   0.7s\n",
      "[CV] bootstrap=True, max_depth=70, n_estimators=600 ..................\n",
      "[CV] ... bootstrap=True, max_depth=70, n_estimators=600, total=   0.7s\n",
      "[CV] bootstrap=True, max_depth=70, n_estimators=800 ..................\n",
      "[CV] ... bootstrap=True, max_depth=70, n_estimators=800, total=   0.9s\n",
      "[CV] bootstrap=True, max_depth=70, n_estimators=800 ..................\n",
      "[CV] ... bootstrap=True, max_depth=70, n_estimators=800, total=   1.1s\n",
      "[CV] bootstrap=True, max_depth=70, n_estimators=800 ..................\n",
      "[CV] ... bootstrap=True, max_depth=70, n_estimators=800, total=   1.0s\n",
      "[CV] bootstrap=True, max_depth=70, n_estimators=1000 .................\n",
      "[CV] .. bootstrap=True, max_depth=70, n_estimators=1000, total=   1.2s\n",
      "[CV] bootstrap=True, max_depth=70, n_estimators=1000 .................\n",
      "[CV] .. bootstrap=True, max_depth=70, n_estimators=1000, total=   1.2s\n",
      "[CV] bootstrap=True, max_depth=70, n_estimators=1000 .................\n",
      "[CV] .. bootstrap=True, max_depth=70, n_estimators=1000, total=   1.2s\n",
      "[CV] bootstrap=True, max_depth=80, n_estimators=200 ..................\n",
      "[CV] ... bootstrap=True, max_depth=80, n_estimators=200, total=   0.2s\n",
      "[CV] bootstrap=True, max_depth=80, n_estimators=200 ..................\n",
      "[CV] ... bootstrap=True, max_depth=80, n_estimators=200, total=   0.2s\n",
      "[CV] bootstrap=True, max_depth=80, n_estimators=200 ..................\n",
      "[CV] ... bootstrap=True, max_depth=80, n_estimators=200, total=   0.3s\n",
      "[CV] bootstrap=True, max_depth=80, n_estimators=400 ..................\n",
      "[CV] ... bootstrap=True, max_depth=80, n_estimators=400, total=   0.5s\n",
      "[CV] bootstrap=True, max_depth=80, n_estimators=400 ..................\n",
      "[CV] ... bootstrap=True, max_depth=80, n_estimators=400, total=   0.5s\n",
      "[CV] bootstrap=True, max_depth=80, n_estimators=400 ..................\n",
      "[CV] ... bootstrap=True, max_depth=80, n_estimators=400, total=   0.5s\n",
      "[CV] bootstrap=True, max_depth=80, n_estimators=600 ..................\n",
      "[CV] ... bootstrap=True, max_depth=80, n_estimators=600, total=   0.7s\n",
      "[CV] bootstrap=True, max_depth=80, n_estimators=600 ..................\n",
      "[CV] ... bootstrap=True, max_depth=80, n_estimators=600, total=   0.7s\n",
      "[CV] bootstrap=True, max_depth=80, n_estimators=600 ..................\n",
      "[CV] ... bootstrap=True, max_depth=80, n_estimators=600, total=   0.7s\n",
      "[CV] bootstrap=True, max_depth=80, n_estimators=800 ..................\n",
      "[CV] ... bootstrap=True, max_depth=80, n_estimators=800, total=   1.0s\n",
      "[CV] bootstrap=True, max_depth=80, n_estimators=800 ..................\n",
      "[CV] ... bootstrap=True, max_depth=80, n_estimators=800, total=   0.9s\n",
      "[CV] bootstrap=True, max_depth=80, n_estimators=800 ..................\n",
      "[CV] ... bootstrap=True, max_depth=80, n_estimators=800, total=   1.0s\n",
      "[CV] bootstrap=True, max_depth=80, n_estimators=1000 .................\n",
      "[CV] .. bootstrap=True, max_depth=80, n_estimators=1000, total=   1.3s\n",
      "[CV] bootstrap=True, max_depth=80, n_estimators=1000 .................\n",
      "[CV] .. bootstrap=True, max_depth=80, n_estimators=1000, total=   1.2s\n",
      "[CV] bootstrap=True, max_depth=80, n_estimators=1000 .................\n",
      "[CV] .. bootstrap=True, max_depth=80, n_estimators=1000, total=   1.2s\n",
      "[CV] bootstrap=True, max_depth=90, n_estimators=200 ..................\n",
      "[CV] ... bootstrap=True, max_depth=90, n_estimators=200, total=   0.2s\n",
      "[CV] bootstrap=True, max_depth=90, n_estimators=200 ..................\n",
      "[CV] ... bootstrap=True, max_depth=90, n_estimators=200, total=   0.2s\n",
      "[CV] bootstrap=True, max_depth=90, n_estimators=200 ..................\n",
      "[CV] ... bootstrap=True, max_depth=90, n_estimators=200, total=   0.2s\n",
      "[CV] bootstrap=True, max_depth=90, n_estimators=400 ..................\n",
      "[CV] ... bootstrap=True, max_depth=90, n_estimators=400, total=   0.5s\n",
      "[CV] bootstrap=True, max_depth=90, n_estimators=400 ..................\n",
      "[CV] ... bootstrap=True, max_depth=90, n_estimators=400, total=   0.5s\n",
      "[CV] bootstrap=True, max_depth=90, n_estimators=400 ..................\n",
      "[CV] ... bootstrap=True, max_depth=90, n_estimators=400, total=   0.5s\n",
      "[CV] bootstrap=True, max_depth=90, n_estimators=600 ..................\n",
      "[CV] ... bootstrap=True, max_depth=90, n_estimators=600, total=   0.7s\n",
      "[CV] bootstrap=True, max_depth=90, n_estimators=600 ..................\n",
      "[CV] ... bootstrap=True, max_depth=90, n_estimators=600, total=   0.7s\n",
      "[CV] bootstrap=True, max_depth=90, n_estimators=600 ..................\n",
      "[CV] ... bootstrap=True, max_depth=90, n_estimators=600, total=   0.7s\n",
      "[CV] bootstrap=True, max_depth=90, n_estimators=800 ..................\n",
      "[CV] ... bootstrap=True, max_depth=90, n_estimators=800, total=   1.0s\n",
      "[CV] bootstrap=True, max_depth=90, n_estimators=800 ..................\n",
      "[CV] ... bootstrap=True, max_depth=90, n_estimators=800, total=   1.0s\n",
      "[CV] bootstrap=True, max_depth=90, n_estimators=800 ..................\n",
      "[CV] ... bootstrap=True, max_depth=90, n_estimators=800, total=   1.1s\n",
      "[CV] bootstrap=True, max_depth=90, n_estimators=1000 .................\n",
      "[CV] .. bootstrap=True, max_depth=90, n_estimators=1000, total=   1.2s\n",
      "[CV] bootstrap=True, max_depth=90, n_estimators=1000 .................\n",
      "[CV] .. bootstrap=True, max_depth=90, n_estimators=1000, total=   1.2s\n",
      "[CV] bootstrap=True, max_depth=90, n_estimators=1000 .................\n",
      "[CV] .. bootstrap=True, max_depth=90, n_estimators=1000, total=   1.2s\n",
      "[CV] bootstrap=True, max_depth=100, n_estimators=200 .................\n",
      "[CV] .. bootstrap=True, max_depth=100, n_estimators=200, total=   0.2s\n",
      "[CV] bootstrap=True, max_depth=100, n_estimators=200 .................\n",
      "[CV] .. bootstrap=True, max_depth=100, n_estimators=200, total=   0.2s\n",
      "[CV] bootstrap=True, max_depth=100, n_estimators=200 .................\n",
      "[CV] .. bootstrap=True, max_depth=100, n_estimators=200, total=   0.2s\n",
      "[CV] bootstrap=True, max_depth=100, n_estimators=400 .................\n",
      "[CV] .. bootstrap=True, max_depth=100, n_estimators=400, total=   0.5s\n",
      "[CV] bootstrap=True, max_depth=100, n_estimators=400 .................\n",
      "[CV] .. bootstrap=True, max_depth=100, n_estimators=400, total=   0.5s\n",
      "[CV] bootstrap=True, max_depth=100, n_estimators=400 .................\n",
      "[CV] .. bootstrap=True, max_depth=100, n_estimators=400, total=   0.5s\n",
      "[CV] bootstrap=True, max_depth=100, n_estimators=600 .................\n",
      "[CV] .. bootstrap=True, max_depth=100, n_estimators=600, total=   0.7s\n",
      "[CV] bootstrap=True, max_depth=100, n_estimators=600 .................\n",
      "[CV] .. bootstrap=True, max_depth=100, n_estimators=600, total=   0.7s\n",
      "[CV] bootstrap=True, max_depth=100, n_estimators=600 .................\n",
      "[CV] .. bootstrap=True, max_depth=100, n_estimators=600, total=   0.8s\n",
      "[CV] bootstrap=True, max_depth=100, n_estimators=800 .................\n",
      "[CV] .. bootstrap=True, max_depth=100, n_estimators=800, total=   0.9s\n",
      "[CV] bootstrap=True, max_depth=100, n_estimators=800 .................\n",
      "[CV] .. bootstrap=True, max_depth=100, n_estimators=800, total=   0.9s\n",
      "[CV] bootstrap=True, max_depth=100, n_estimators=800 .................\n",
      "[CV] .. bootstrap=True, max_depth=100, n_estimators=800, total=   1.0s\n",
      "[CV] bootstrap=True, max_depth=100, n_estimators=1000 ................\n",
      "[CV] . bootstrap=True, max_depth=100, n_estimators=1000, total=   1.2s\n",
      "[CV] bootstrap=True, max_depth=100, n_estimators=1000 ................\n",
      "[CV] . bootstrap=True, max_depth=100, n_estimators=1000, total=   1.2s\n",
      "[CV] bootstrap=True, max_depth=100, n_estimators=1000 ................\n",
      "[CV] . bootstrap=True, max_depth=100, n_estimators=1000, total=   1.2s\n",
      "[CV] bootstrap=True, max_depth=None, n_estimators=200 ................\n",
      "[CV] . bootstrap=True, max_depth=None, n_estimators=200, total=   0.3s\n",
      "[CV] bootstrap=True, max_depth=None, n_estimators=200 ................\n",
      "[CV] . bootstrap=True, max_depth=None, n_estimators=200, total=   0.3s\n",
      "[CV] bootstrap=True, max_depth=None, n_estimators=200 ................\n",
      "[CV] . bootstrap=True, max_depth=None, n_estimators=200, total=   0.2s\n",
      "[CV] bootstrap=True, max_depth=None, n_estimators=400 ................\n",
      "[CV] . bootstrap=True, max_depth=None, n_estimators=400, total=   0.5s\n",
      "[CV] bootstrap=True, max_depth=None, n_estimators=400 ................\n",
      "[CV] . bootstrap=True, max_depth=None, n_estimators=400, total=   0.5s\n",
      "[CV] bootstrap=True, max_depth=None, n_estimators=400 ................\n",
      "[CV] . bootstrap=True, max_depth=None, n_estimators=400, total=   0.5s\n",
      "[CV] bootstrap=True, max_depth=None, n_estimators=600 ................\n",
      "[CV] . bootstrap=True, max_depth=None, n_estimators=600, total=   0.7s\n",
      "[CV] bootstrap=True, max_depth=None, n_estimators=600 ................\n",
      "[CV] . bootstrap=True, max_depth=None, n_estimators=600, total=   0.7s\n",
      "[CV] bootstrap=True, max_depth=None, n_estimators=600 ................\n",
      "[CV] . bootstrap=True, max_depth=None, n_estimators=600, total=   0.7s\n",
      "[CV] bootstrap=True, max_depth=None, n_estimators=800 ................\n",
      "[CV] . bootstrap=True, max_depth=None, n_estimators=800, total=   1.0s\n",
      "[CV] bootstrap=True, max_depth=None, n_estimators=800 ................\n",
      "[CV] . bootstrap=True, max_depth=None, n_estimators=800, total=   1.0s\n",
      "[CV] bootstrap=True, max_depth=None, n_estimators=800 ................\n",
      "[CV] . bootstrap=True, max_depth=None, n_estimators=800, total=   0.9s\n",
      "[CV] bootstrap=True, max_depth=None, n_estimators=1000 ...............\n",
      "[CV]  bootstrap=True, max_depth=None, n_estimators=1000, total=   1.2s\n",
      "[CV] bootstrap=True, max_depth=None, n_estimators=1000 ...............\n",
      "[CV]  bootstrap=True, max_depth=None, n_estimators=1000, total=   1.2s\n",
      "[CV] bootstrap=True, max_depth=None, n_estimators=1000 ...............\n",
      "[CV]  bootstrap=True, max_depth=None, n_estimators=1000, total=   1.2s\n",
      "[CV] bootstrap=False, max_depth=10, n_estimators=200 .................\n",
      "[CV] .. bootstrap=False, max_depth=10, n_estimators=200, total=   0.2s\n",
      "[CV] bootstrap=False, max_depth=10, n_estimators=200 .................\n",
      "[CV] .. bootstrap=False, max_depth=10, n_estimators=200, total=   0.2s\n",
      "[CV] bootstrap=False, max_depth=10, n_estimators=200 .................\n",
      "[CV] .. bootstrap=False, max_depth=10, n_estimators=200, total=   0.2s\n",
      "[CV] bootstrap=False, max_depth=10, n_estimators=400 .................\n",
      "[CV] .. bootstrap=False, max_depth=10, n_estimators=400, total=   0.4s\n",
      "[CV] bootstrap=False, max_depth=10, n_estimators=400 .................\n",
      "[CV] .. bootstrap=False, max_depth=10, n_estimators=400, total=   0.4s\n",
      "[CV] bootstrap=False, max_depth=10, n_estimators=400 .................\n",
      "[CV] .. bootstrap=False, max_depth=10, n_estimators=400, total=   0.4s\n",
      "[CV] bootstrap=False, max_depth=10, n_estimators=600 .................\n",
      "[CV] .. bootstrap=False, max_depth=10, n_estimators=600, total=   0.6s\n",
      "[CV] bootstrap=False, max_depth=10, n_estimators=600 .................\n",
      "[CV] .. bootstrap=False, max_depth=10, n_estimators=600, total=   0.6s\n",
      "[CV] bootstrap=False, max_depth=10, n_estimators=600 .................\n",
      "[CV] .. bootstrap=False, max_depth=10, n_estimators=600, total=   0.6s\n",
      "[CV] bootstrap=False, max_depth=10, n_estimators=800 .................\n",
      "[CV] .. bootstrap=False, max_depth=10, n_estimators=800, total=   0.8s\n",
      "[CV] bootstrap=False, max_depth=10, n_estimators=800 .................\n",
      "[CV] .. bootstrap=False, max_depth=10, n_estimators=800, total=   0.8s\n",
      "[CV] bootstrap=False, max_depth=10, n_estimators=800 .................\n",
      "[CV] .. bootstrap=False, max_depth=10, n_estimators=800, total=   0.8s\n",
      "[CV] bootstrap=False, max_depth=10, n_estimators=1000 ................\n",
      "[CV] . bootstrap=False, max_depth=10, n_estimators=1000, total=   1.0s\n",
      "[CV] bootstrap=False, max_depth=10, n_estimators=1000 ................\n",
      "[CV] . bootstrap=False, max_depth=10, n_estimators=1000, total=   0.9s\n",
      "[CV] bootstrap=False, max_depth=10, n_estimators=1000 ................\n",
      "[CV] . bootstrap=False, max_depth=10, n_estimators=1000, total=   1.0s\n",
      "[CV] bootstrap=False, max_depth=20, n_estimators=200 .................\n",
      "[CV] .. bootstrap=False, max_depth=20, n_estimators=200, total=   0.2s\n",
      "[CV] bootstrap=False, max_depth=20, n_estimators=200 .................\n",
      "[CV] .. bootstrap=False, max_depth=20, n_estimators=200, total=   0.2s\n",
      "[CV] bootstrap=False, max_depth=20, n_estimators=200 .................\n",
      "[CV] .. bootstrap=False, max_depth=20, n_estimators=200, total=   0.2s\n",
      "[CV] bootstrap=False, max_depth=20, n_estimators=400 .................\n",
      "[CV] .. bootstrap=False, max_depth=20, n_estimators=400, total=   0.4s\n",
      "[CV] bootstrap=False, max_depth=20, n_estimators=400 .................\n",
      "[CV] .. bootstrap=False, max_depth=20, n_estimators=400, total=   0.4s\n",
      "[CV] bootstrap=False, max_depth=20, n_estimators=400 .................\n",
      "[CV] .. bootstrap=False, max_depth=20, n_estimators=400, total=   0.4s\n",
      "[CV] bootstrap=False, max_depth=20, n_estimators=600 .................\n",
      "[CV] .. bootstrap=False, max_depth=20, n_estimators=600, total=   0.6s\n",
      "[CV] bootstrap=False, max_depth=20, n_estimators=600 .................\n",
      "[CV] .. bootstrap=False, max_depth=20, n_estimators=600, total=   0.6s\n",
      "[CV] bootstrap=False, max_depth=20, n_estimators=600 .................\n",
      "[CV] .. bootstrap=False, max_depth=20, n_estimators=600, total=   0.6s\n",
      "[CV] bootstrap=False, max_depth=20, n_estimators=800 .................\n",
      "[CV] .. bootstrap=False, max_depth=20, n_estimators=800, total=   0.8s\n",
      "[CV] bootstrap=False, max_depth=20, n_estimators=800 .................\n",
      "[CV] .. bootstrap=False, max_depth=20, n_estimators=800, total=   0.8s\n",
      "[CV] bootstrap=False, max_depth=20, n_estimators=800 .................\n",
      "[CV] .. bootstrap=False, max_depth=20, n_estimators=800, total=   0.8s\n",
      "[CV] bootstrap=False, max_depth=20, n_estimators=1000 ................\n",
      "[CV] . bootstrap=False, max_depth=20, n_estimators=1000, total=   1.0s\n",
      "[CV] bootstrap=False, max_depth=20, n_estimators=1000 ................\n",
      "[CV] . bootstrap=False, max_depth=20, n_estimators=1000, total=   1.0s\n",
      "[CV] bootstrap=False, max_depth=20, n_estimators=1000 ................\n",
      "[CV] . bootstrap=False, max_depth=20, n_estimators=1000, total=   1.0s\n",
      "[CV] bootstrap=False, max_depth=30, n_estimators=200 .................\n",
      "[CV] .. bootstrap=False, max_depth=30, n_estimators=200, total=   0.2s\n",
      "[CV] bootstrap=False, max_depth=30, n_estimators=200 .................\n",
      "[CV] .. bootstrap=False, max_depth=30, n_estimators=200, total=   0.2s\n",
      "[CV] bootstrap=False, max_depth=30, n_estimators=200 .................\n",
      "[CV] .. bootstrap=False, max_depth=30, n_estimators=200, total=   0.2s\n",
      "[CV] bootstrap=False, max_depth=30, n_estimators=400 .................\n",
      "[CV] .. bootstrap=False, max_depth=30, n_estimators=400, total=   0.4s\n",
      "[CV] bootstrap=False, max_depth=30, n_estimators=400 .................\n",
      "[CV] .. bootstrap=False, max_depth=30, n_estimators=400, total=   0.4s\n",
      "[CV] bootstrap=False, max_depth=30, n_estimators=400 .................\n",
      "[CV] .. bootstrap=False, max_depth=30, n_estimators=400, total=   0.4s\n",
      "[CV] bootstrap=False, max_depth=30, n_estimators=600 .................\n",
      "[CV] .. bootstrap=False, max_depth=30, n_estimators=600, total=   0.6s\n",
      "[CV] bootstrap=False, max_depth=30, n_estimators=600 .................\n",
      "[CV] .. bootstrap=False, max_depth=30, n_estimators=600, total=   0.6s\n",
      "[CV] bootstrap=False, max_depth=30, n_estimators=600 .................\n",
      "[CV] .. bootstrap=False, max_depth=30, n_estimators=600, total=   0.6s\n",
      "[CV] bootstrap=False, max_depth=30, n_estimators=800 .................\n",
      "[CV] .. bootstrap=False, max_depth=30, n_estimators=800, total=   0.8s\n",
      "[CV] bootstrap=False, max_depth=30, n_estimators=800 .................\n",
      "[CV] .. bootstrap=False, max_depth=30, n_estimators=800, total=   0.8s\n",
      "[CV] bootstrap=False, max_depth=30, n_estimators=800 .................\n",
      "[CV] .. bootstrap=False, max_depth=30, n_estimators=800, total=   0.8s\n",
      "[CV] bootstrap=False, max_depth=30, n_estimators=1000 ................\n",
      "[CV] . bootstrap=False, max_depth=30, n_estimators=1000, total=   1.0s\n",
      "[CV] bootstrap=False, max_depth=30, n_estimators=1000 ................\n",
      "[CV] . bootstrap=False, max_depth=30, n_estimators=1000, total=   1.1s\n",
      "[CV] bootstrap=False, max_depth=30, n_estimators=1000 ................\n",
      "[CV] . bootstrap=False, max_depth=30, n_estimators=1000, total=   1.0s\n",
      "[CV] bootstrap=False, max_depth=40, n_estimators=200 .................\n",
      "[CV] .. bootstrap=False, max_depth=40, n_estimators=200, total=   0.2s\n",
      "[CV] bootstrap=False, max_depth=40, n_estimators=200 .................\n",
      "[CV] .. bootstrap=False, max_depth=40, n_estimators=200, total=   0.2s\n",
      "[CV] bootstrap=False, max_depth=40, n_estimators=200 .................\n",
      "[CV] .. bootstrap=False, max_depth=40, n_estimators=200, total=   0.2s\n",
      "[CV] bootstrap=False, max_depth=40, n_estimators=400 .................\n",
      "[CV] .. bootstrap=False, max_depth=40, n_estimators=400, total=   0.4s\n",
      "[CV] bootstrap=False, max_depth=40, n_estimators=400 .................\n",
      "[CV] .. bootstrap=False, max_depth=40, n_estimators=400, total=   0.4s\n",
      "[CV] bootstrap=False, max_depth=40, n_estimators=400 .................\n",
      "[CV] .. bootstrap=False, max_depth=40, n_estimators=400, total=   0.4s\n",
      "[CV] bootstrap=False, max_depth=40, n_estimators=600 .................\n",
      "[CV] .. bootstrap=False, max_depth=40, n_estimators=600, total=   0.6s\n",
      "[CV] bootstrap=False, max_depth=40, n_estimators=600 .................\n",
      "[CV] .. bootstrap=False, max_depth=40, n_estimators=600, total=   0.6s\n",
      "[CV] bootstrap=False, max_depth=40, n_estimators=600 .................\n",
      "[CV] .. bootstrap=False, max_depth=40, n_estimators=600, total=   0.6s\n",
      "[CV] bootstrap=False, max_depth=40, n_estimators=800 .................\n",
      "[CV] .. bootstrap=False, max_depth=40, n_estimators=800, total=   0.8s\n",
      "[CV] bootstrap=False, max_depth=40, n_estimators=800 .................\n",
      "[CV] .. bootstrap=False, max_depth=40, n_estimators=800, total=   0.8s\n",
      "[CV] bootstrap=False, max_depth=40, n_estimators=800 .................\n",
      "[CV] .. bootstrap=False, max_depth=40, n_estimators=800, total=   0.8s\n",
      "[CV] bootstrap=False, max_depth=40, n_estimators=1000 ................\n",
      "[CV] . bootstrap=False, max_depth=40, n_estimators=1000, total=   1.0s\n",
      "[CV] bootstrap=False, max_depth=40, n_estimators=1000 ................\n",
      "[CV] . bootstrap=False, max_depth=40, n_estimators=1000, total=   1.0s\n",
      "[CV] bootstrap=False, max_depth=40, n_estimators=1000 ................\n",
      "[CV] . bootstrap=False, max_depth=40, n_estimators=1000, total=   1.0s\n",
      "[CV] bootstrap=False, max_depth=50, n_estimators=200 .................\n",
      "[CV] .. bootstrap=False, max_depth=50, n_estimators=200, total=   0.2s\n",
      "[CV] bootstrap=False, max_depth=50, n_estimators=200 .................\n",
      "[CV] .. bootstrap=False, max_depth=50, n_estimators=200, total=   0.2s\n",
      "[CV] bootstrap=False, max_depth=50, n_estimators=200 .................\n",
      "[CV] .. bootstrap=False, max_depth=50, n_estimators=200, total=   0.2s\n",
      "[CV] bootstrap=False, max_depth=50, n_estimators=400 .................\n",
      "[CV] .. bootstrap=False, max_depth=50, n_estimators=400, total=   0.4s\n",
      "[CV] bootstrap=False, max_depth=50, n_estimators=400 .................\n",
      "[CV] .. bootstrap=False, max_depth=50, n_estimators=400, total=   0.4s\n",
      "[CV] bootstrap=False, max_depth=50, n_estimators=400 .................\n",
      "[CV] .. bootstrap=False, max_depth=50, n_estimators=400, total=   0.4s\n",
      "[CV] bootstrap=False, max_depth=50, n_estimators=600 .................\n",
      "[CV] .. bootstrap=False, max_depth=50, n_estimators=600, total=   0.6s\n",
      "[CV] bootstrap=False, max_depth=50, n_estimators=600 .................\n",
      "[CV] .. bootstrap=False, max_depth=50, n_estimators=600, total=   0.6s\n",
      "[CV] bootstrap=False, max_depth=50, n_estimators=600 .................\n",
      "[CV] .. bootstrap=False, max_depth=50, n_estimators=600, total=   0.6s\n",
      "[CV] bootstrap=False, max_depth=50, n_estimators=800 .................\n",
      "[CV] .. bootstrap=False, max_depth=50, n_estimators=800, total=   0.8s\n",
      "[CV] bootstrap=False, max_depth=50, n_estimators=800 .................\n",
      "[CV] .. bootstrap=False, max_depth=50, n_estimators=800, total=   0.8s\n",
      "[CV] bootstrap=False, max_depth=50, n_estimators=800 .................\n",
      "[CV] .. bootstrap=False, max_depth=50, n_estimators=800, total=   0.8s\n",
      "[CV] bootstrap=False, max_depth=50, n_estimators=1000 ................\n",
      "[CV] . bootstrap=False, max_depth=50, n_estimators=1000, total=   1.0s\n",
      "[CV] bootstrap=False, max_depth=50, n_estimators=1000 ................\n",
      "[CV] . bootstrap=False, max_depth=50, n_estimators=1000, total=   1.0s\n",
      "[CV] bootstrap=False, max_depth=50, n_estimators=1000 ................\n",
      "[CV] . bootstrap=False, max_depth=50, n_estimators=1000, total=   1.0s\n",
      "[CV] bootstrap=False, max_depth=60, n_estimators=200 .................\n",
      "[CV] .. bootstrap=False, max_depth=60, n_estimators=200, total=   0.2s\n",
      "[CV] bootstrap=False, max_depth=60, n_estimators=200 .................\n",
      "[CV] .. bootstrap=False, max_depth=60, n_estimators=200, total=   0.2s\n",
      "[CV] bootstrap=False, max_depth=60, n_estimators=200 .................\n",
      "[CV] .. bootstrap=False, max_depth=60, n_estimators=200, total=   0.2s\n",
      "[CV] bootstrap=False, max_depth=60, n_estimators=400 .................\n",
      "[CV] .. bootstrap=False, max_depth=60, n_estimators=400, total=   0.5s\n",
      "[CV] bootstrap=False, max_depth=60, n_estimators=400 .................\n",
      "[CV] .. bootstrap=False, max_depth=60, n_estimators=400, total=   0.4s\n",
      "[CV] bootstrap=False, max_depth=60, n_estimators=400 .................\n",
      "[CV] .. bootstrap=False, max_depth=60, n_estimators=400, total=   0.4s\n",
      "[CV] bootstrap=False, max_depth=60, n_estimators=600 .................\n",
      "[CV] .. bootstrap=False, max_depth=60, n_estimators=600, total=   0.6s\n",
      "[CV] bootstrap=False, max_depth=60, n_estimators=600 .................\n",
      "[CV] .. bootstrap=False, max_depth=60, n_estimators=600, total=   0.6s\n",
      "[CV] bootstrap=False, max_depth=60, n_estimators=600 .................\n",
      "[CV] .. bootstrap=False, max_depth=60, n_estimators=600, total=   0.6s\n",
      "[CV] bootstrap=False, max_depth=60, n_estimators=800 .................\n",
      "[CV] .. bootstrap=False, max_depth=60, n_estimators=800, total=   0.8s\n",
      "[CV] bootstrap=False, max_depth=60, n_estimators=800 .................\n",
      "[CV] .. bootstrap=False, max_depth=60, n_estimators=800, total=   0.8s\n",
      "[CV] bootstrap=False, max_depth=60, n_estimators=800 .................\n",
      "[CV] .. bootstrap=False, max_depth=60, n_estimators=800, total=   0.8s\n",
      "[CV] bootstrap=False, max_depth=60, n_estimators=1000 ................\n",
      "[CV] . bootstrap=False, max_depth=60, n_estimators=1000, total=   1.0s\n",
      "[CV] bootstrap=False, max_depth=60, n_estimators=1000 ................\n",
      "[CV] . bootstrap=False, max_depth=60, n_estimators=1000, total=   0.9s\n",
      "[CV] bootstrap=False, max_depth=60, n_estimators=1000 ................\n",
      "[CV] . bootstrap=False, max_depth=60, n_estimators=1000, total=   1.0s\n",
      "[CV] bootstrap=False, max_depth=70, n_estimators=200 .................\n",
      "[CV] .. bootstrap=False, max_depth=70, n_estimators=200, total=   0.2s\n",
      "[CV] bootstrap=False, max_depth=70, n_estimators=200 .................\n",
      "[CV] .. bootstrap=False, max_depth=70, n_estimators=200, total=   0.2s\n",
      "[CV] bootstrap=False, max_depth=70, n_estimators=200 .................\n",
      "[CV] .. bootstrap=False, max_depth=70, n_estimators=200, total=   0.2s\n",
      "[CV] bootstrap=False, max_depth=70, n_estimators=400 .................\n",
      "[CV] .. bootstrap=False, max_depth=70, n_estimators=400, total=   0.4s\n",
      "[CV] bootstrap=False, max_depth=70, n_estimators=400 .................\n",
      "[CV] .. bootstrap=False, max_depth=70, n_estimators=400, total=   0.4s\n",
      "[CV] bootstrap=False, max_depth=70, n_estimators=400 .................\n",
      "[CV] .. bootstrap=False, max_depth=70, n_estimators=400, total=   0.4s\n",
      "[CV] bootstrap=False, max_depth=70, n_estimators=600 .................\n",
      "[CV] .. bootstrap=False, max_depth=70, n_estimators=600, total=   0.7s\n",
      "[CV] bootstrap=False, max_depth=70, n_estimators=600 .................\n",
      "[CV] .. bootstrap=False, max_depth=70, n_estimators=600, total=   0.6s\n",
      "[CV] bootstrap=False, max_depth=70, n_estimators=600 .................\n",
      "[CV] .. bootstrap=False, max_depth=70, n_estimators=600, total=   0.6s\n",
      "[CV] bootstrap=False, max_depth=70, n_estimators=800 .................\n",
      "[CV] .. bootstrap=False, max_depth=70, n_estimators=800, total=   0.8s\n",
      "[CV] bootstrap=False, max_depth=70, n_estimators=800 .................\n",
      "[CV] .. bootstrap=False, max_depth=70, n_estimators=800, total=   0.8s\n",
      "[CV] bootstrap=False, max_depth=70, n_estimators=800 .................\n",
      "[CV] .. bootstrap=False, max_depth=70, n_estimators=800, total=   0.8s\n",
      "[CV] bootstrap=False, max_depth=70, n_estimators=1000 ................\n",
      "[CV] . bootstrap=False, max_depth=70, n_estimators=1000, total=   1.0s\n",
      "[CV] bootstrap=False, max_depth=70, n_estimators=1000 ................\n",
      "[CV] . bootstrap=False, max_depth=70, n_estimators=1000, total=   0.9s\n",
      "[CV] bootstrap=False, max_depth=70, n_estimators=1000 ................\n",
      "[CV] . bootstrap=False, max_depth=70, n_estimators=1000, total=   1.0s\n",
      "[CV] bootstrap=False, max_depth=80, n_estimators=200 .................\n",
      "[CV] .. bootstrap=False, max_depth=80, n_estimators=200, total=   0.2s\n",
      "[CV] bootstrap=False, max_depth=80, n_estimators=200 .................\n",
      "[CV] .. bootstrap=False, max_depth=80, n_estimators=200, total=   0.2s\n",
      "[CV] bootstrap=False, max_depth=80, n_estimators=200 .................\n",
      "[CV] .. bootstrap=False, max_depth=80, n_estimators=200, total=   0.2s\n",
      "[CV] bootstrap=False, max_depth=80, n_estimators=400 .................\n",
      "[CV] .. bootstrap=False, max_depth=80, n_estimators=400, total=   0.4s\n",
      "[CV] bootstrap=False, max_depth=80, n_estimators=400 .................\n",
      "[CV] .. bootstrap=False, max_depth=80, n_estimators=400, total=   0.4s\n",
      "[CV] bootstrap=False, max_depth=80, n_estimators=400 .................\n",
      "[CV] .. bootstrap=False, max_depth=80, n_estimators=400, total=   0.4s\n",
      "[CV] bootstrap=False, max_depth=80, n_estimators=600 .................\n",
      "[CV] .. bootstrap=False, max_depth=80, n_estimators=600, total=   0.6s\n",
      "[CV] bootstrap=False, max_depth=80, n_estimators=600 .................\n",
      "[CV] .. bootstrap=False, max_depth=80, n_estimators=600, total=   0.6s\n",
      "[CV] bootstrap=False, max_depth=80, n_estimators=600 .................\n",
      "[CV] .. bootstrap=False, max_depth=80, n_estimators=600, total=   0.6s\n",
      "[CV] bootstrap=False, max_depth=80, n_estimators=800 .................\n",
      "[CV] .. bootstrap=False, max_depth=80, n_estimators=800, total=   0.8s\n",
      "[CV] bootstrap=False, max_depth=80, n_estimators=800 .................\n",
      "[CV] .. bootstrap=False, max_depth=80, n_estimators=800, total=   0.8s\n",
      "[CV] bootstrap=False, max_depth=80, n_estimators=800 .................\n",
      "[CV] .. bootstrap=False, max_depth=80, n_estimators=800, total=   0.8s\n",
      "[CV] bootstrap=False, max_depth=80, n_estimators=1000 ................\n",
      "[CV] . bootstrap=False, max_depth=80, n_estimators=1000, total=   1.0s\n",
      "[CV] bootstrap=False, max_depth=80, n_estimators=1000 ................\n",
      "[CV] . bootstrap=False, max_depth=80, n_estimators=1000, total=   0.9s\n",
      "[CV] bootstrap=False, max_depth=80, n_estimators=1000 ................\n",
      "[CV] . bootstrap=False, max_depth=80, n_estimators=1000, total=   1.0s\n",
      "[CV] bootstrap=False, max_depth=90, n_estimators=200 .................\n",
      "[CV] .. bootstrap=False, max_depth=90, n_estimators=200, total=   0.2s\n",
      "[CV] bootstrap=False, max_depth=90, n_estimators=200 .................\n",
      "[CV] .. bootstrap=False, max_depth=90, n_estimators=200, total=   0.2s\n",
      "[CV] bootstrap=False, max_depth=90, n_estimators=200 .................\n",
      "[CV] .. bootstrap=False, max_depth=90, n_estimators=200, total=   0.2s\n",
      "[CV] bootstrap=False, max_depth=90, n_estimators=400 .................\n",
      "[CV] .. bootstrap=False, max_depth=90, n_estimators=400, total=   0.4s\n",
      "[CV] bootstrap=False, max_depth=90, n_estimators=400 .................\n",
      "[CV] .. bootstrap=False, max_depth=90, n_estimators=400, total=   0.4s\n",
      "[CV] bootstrap=False, max_depth=90, n_estimators=400 .................\n",
      "[CV] .. bootstrap=False, max_depth=90, n_estimators=400, total=   0.4s\n",
      "[CV] bootstrap=False, max_depth=90, n_estimators=600 .................\n",
      "[CV] .. bootstrap=False, max_depth=90, n_estimators=600, total=   0.6s\n",
      "[CV] bootstrap=False, max_depth=90, n_estimators=600 .................\n",
      "[CV] .. bootstrap=False, max_depth=90, n_estimators=600, total=   0.6s\n",
      "[CV] bootstrap=False, max_depth=90, n_estimators=600 .................\n",
      "[CV] .. bootstrap=False, max_depth=90, n_estimators=600, total=   0.6s\n",
      "[CV] bootstrap=False, max_depth=90, n_estimators=800 .................\n",
      "[CV] .. bootstrap=False, max_depth=90, n_estimators=800, total=   0.8s\n",
      "[CV] bootstrap=False, max_depth=90, n_estimators=800 .................\n",
      "[CV] .. bootstrap=False, max_depth=90, n_estimators=800, total=   0.9s\n",
      "[CV] bootstrap=False, max_depth=90, n_estimators=800 .................\n",
      "[CV] .. bootstrap=False, max_depth=90, n_estimators=800, total=   0.8s\n",
      "[CV] bootstrap=False, max_depth=90, n_estimators=1000 ................\n",
      "[CV] . bootstrap=False, max_depth=90, n_estimators=1000, total=   1.0s\n",
      "[CV] bootstrap=False, max_depth=90, n_estimators=1000 ................\n",
      "[CV] . bootstrap=False, max_depth=90, n_estimators=1000, total=   1.0s\n",
      "[CV] bootstrap=False, max_depth=90, n_estimators=1000 ................\n",
      "[CV] . bootstrap=False, max_depth=90, n_estimators=1000, total=   1.0s\n",
      "[CV] bootstrap=False, max_depth=100, n_estimators=200 ................\n",
      "[CV] . bootstrap=False, max_depth=100, n_estimators=200, total=   0.2s\n",
      "[CV] bootstrap=False, max_depth=100, n_estimators=200 ................\n",
      "[CV] . bootstrap=False, max_depth=100, n_estimators=200, total=   0.2s\n",
      "[CV] bootstrap=False, max_depth=100, n_estimators=200 ................\n",
      "[CV] . bootstrap=False, max_depth=100, n_estimators=200, total=   0.2s\n",
      "[CV] bootstrap=False, max_depth=100, n_estimators=400 ................\n",
      "[CV] . bootstrap=False, max_depth=100, n_estimators=400, total=   0.4s\n",
      "[CV] bootstrap=False, max_depth=100, n_estimators=400 ................\n",
      "[CV] . bootstrap=False, max_depth=100, n_estimators=400, total=   0.4s\n",
      "[CV] bootstrap=False, max_depth=100, n_estimators=400 ................\n",
      "[CV] . bootstrap=False, max_depth=100, n_estimators=400, total=   0.4s\n",
      "[CV] bootstrap=False, max_depth=100, n_estimators=600 ................\n",
      "[CV] . bootstrap=False, max_depth=100, n_estimators=600, total=   0.6s\n",
      "[CV] bootstrap=False, max_depth=100, n_estimators=600 ................\n",
      "[CV] . bootstrap=False, max_depth=100, n_estimators=600, total=   0.6s\n",
      "[CV] bootstrap=False, max_depth=100, n_estimators=600 ................\n",
      "[CV] . bootstrap=False, max_depth=100, n_estimators=600, total=   0.6s\n",
      "[CV] bootstrap=False, max_depth=100, n_estimators=800 ................\n",
      "[CV] . bootstrap=False, max_depth=100, n_estimators=800, total=   0.8s\n",
      "[CV] bootstrap=False, max_depth=100, n_estimators=800 ................\n",
      "[CV] . bootstrap=False, max_depth=100, n_estimators=800, total=   0.8s\n",
      "[CV] bootstrap=False, max_depth=100, n_estimators=800 ................\n",
      "[CV] . bootstrap=False, max_depth=100, n_estimators=800, total=   0.9s\n",
      "[CV] bootstrap=False, max_depth=100, n_estimators=1000 ...............\n",
      "[CV]  bootstrap=False, max_depth=100, n_estimators=1000, total=   1.0s\n",
      "[CV] bootstrap=False, max_depth=100, n_estimators=1000 ...............\n",
      "[CV]  bootstrap=False, max_depth=100, n_estimators=1000, total=   1.0s\n",
      "[CV] bootstrap=False, max_depth=100, n_estimators=1000 ...............\n",
      "[CV]  bootstrap=False, max_depth=100, n_estimators=1000, total=   1.0s\n",
      "[CV] bootstrap=False, max_depth=None, n_estimators=200 ...............\n",
      "[CV]  bootstrap=False, max_depth=None, n_estimators=200, total=   0.2s\n",
      "[CV] bootstrap=False, max_depth=None, n_estimators=200 ...............\n",
      "[CV]  bootstrap=False, max_depth=None, n_estimators=200, total=   0.2s\n",
      "[CV] bootstrap=False, max_depth=None, n_estimators=200 ...............\n",
      "[CV]  bootstrap=False, max_depth=None, n_estimators=200, total=   0.2s\n",
      "[CV] bootstrap=False, max_depth=None, n_estimators=400 ...............\n",
      "[CV]  bootstrap=False, max_depth=None, n_estimators=400, total=   0.4s\n",
      "[CV] bootstrap=False, max_depth=None, n_estimators=400 ...............\n",
      "[CV]  bootstrap=False, max_depth=None, n_estimators=400, total=   0.4s\n",
      "[CV] bootstrap=False, max_depth=None, n_estimators=400 ...............\n",
      "[CV]  bootstrap=False, max_depth=None, n_estimators=400, total=   0.4s\n",
      "[CV] bootstrap=False, max_depth=None, n_estimators=600 ...............\n",
      "[CV]  bootstrap=False, max_depth=None, n_estimators=600, total=   0.6s\n",
      "[CV] bootstrap=False, max_depth=None, n_estimators=600 ...............\n",
      "[CV]  bootstrap=False, max_depth=None, n_estimators=600, total=   0.6s\n",
      "[CV] bootstrap=False, max_depth=None, n_estimators=600 ...............\n",
      "[CV]  bootstrap=False, max_depth=None, n_estimators=600, total=   0.6s\n",
      "[CV] bootstrap=False, max_depth=None, n_estimators=800 ...............\n",
      "[CV]  bootstrap=False, max_depth=None, n_estimators=800, total=   0.8s\n",
      "[CV] bootstrap=False, max_depth=None, n_estimators=800 ...............\n",
      "[CV]  bootstrap=False, max_depth=None, n_estimators=800, total=   0.8s\n",
      "[CV] bootstrap=False, max_depth=None, n_estimators=800 ...............\n",
      "[CV]  bootstrap=False, max_depth=None, n_estimators=800, total=   0.8s\n",
      "[CV] bootstrap=False, max_depth=None, n_estimators=1000 ..............\n",
      "[CV]  bootstrap=False, max_depth=None, n_estimators=1000, total=   1.0s\n",
      "[CV] bootstrap=False, max_depth=None, n_estimators=1000 ..............\n",
      "[CV]  bootstrap=False, max_depth=None, n_estimators=1000, total=   1.0s\n",
      "[CV] bootstrap=False, max_depth=None, n_estimators=1000 ..............\n",
      "[CV]  bootstrap=False, max_depth=None, n_estimators=1000, total=   1.0s\n"
     ]
    },
    {
     "name": "stderr",
     "output_type": "stream",
     "text": [
      "[Parallel(n_jobs=1)]: Done 330 out of 330 | elapsed:  3.6min finished\n"
     ]
    },
    {
     "data": {
      "text/plain": [
       "GridSearchCV(cv=3, estimator=RandomForestClassifier(random_state=0),\n",
       "             param_grid={'bootstrap': [True, False],\n",
       "                         'max_depth': [10, 20, 30, 40, 50, 60, 70, 80, 90, 100,\n",
       "                                       None],\n",
       "                         'n_estimators': [200, 400, 600, 800, 1000]},\n",
       "             verbose=2)"
      ]
     },
     "execution_count": 76,
     "metadata": {},
     "output_type": "execute_result"
    }
   ],
   "source": [
    "#Running gridSearchVC\n",
    "grid_rf.fit(train_X,train_y)"
   ]
  },
  {
   "cell_type": "code",
   "execution_count": 77,
   "metadata": {},
   "outputs": [
    {
     "data": {
      "text/plain": [
       "{'bootstrap': True, 'max_depth': 20, 'n_estimators': 200}"
      ]
     },
     "execution_count": 77,
     "metadata": {},
     "output_type": "execute_result"
    }
   ],
   "source": [
    "grid_rf.best_params_  # Parameter setting that gave the best results"
   ]
  },
  {
   "cell_type": "code",
   "execution_count": 78,
   "metadata": {},
   "outputs": [
    {
     "data": {
      "text/plain": [
       "RandomForestClassifier(max_depth=20, n_estimators=200, random_state=0)"
      ]
     },
     "execution_count": 78,
     "metadata": {},
     "output_type": "execute_result"
    }
   ],
   "source": [
    "grid_rf.best_estimator_  # Best hyperparameter accuracy for the algorithm algorithm"
   ]
  },
  {
   "cell_type": "code",
   "execution_count": 97,
   "metadata": {},
   "outputs": [],
   "source": [
    "grid_prediction_rf = grid_rf.predict(test_X)"
   ]
  },
  {
   "cell_type": "code",
   "execution_count": 98,
   "metadata": {},
   "outputs": [
    {
     "name": "stdout",
     "output_type": "stream",
     "text": [
      "[[ 43  60]\n",
      " [  8 196]] \n",
      " with accuracy  0.820864268037312\n"
     ]
    }
   ],
   "source": [
    "print(confusion_matrix(test_y,grid_prediction_rf),'\\n with accuracy ',grid_rf.best_score_)"
   ]
  },
  {
   "cell_type": "markdown",
   "metadata": {},
   "source": [
    "# NOW USING My OWN CHOICE ALGORITHM (THE SDGCLASSIFIER) ML ALGORITHM "
   ]
  },
  {
   "cell_type": "code",
   "execution_count": 99,
   "metadata": {},
   "outputs": [],
   "source": [
    "from sklearn.linear_model import SGDClassifier\n",
    "\n",
    "SGD = SGDClassifier(random_state=0, class_weight='balanced')"
   ]
  },
  {
   "cell_type": "code",
   "execution_count": 100,
   "metadata": {},
   "outputs": [
    {
     "data": {
      "text/plain": [
       "SGDClassifier(class_weight='balanced', random_state=0)"
      ]
     },
     "execution_count": 100,
     "metadata": {},
     "output_type": "execute_result"
    }
   ],
   "source": [
    "SGD.fit(train_X,train_y)"
   ]
  },
  {
   "cell_type": "code",
   "execution_count": 101,
   "metadata": {},
   "outputs": [],
   "source": [
    "prediction_SDG = SGD.predict(test_X)"
   ]
  },
  {
   "cell_type": "code",
   "execution_count": 102,
   "metadata": {},
   "outputs": [
    {
     "name": "stdout",
     "output_type": "stream",
     "text": [
      "[[100   3]\n",
      " [201   3]]\n"
     ]
    }
   ],
   "source": [
    "print(confusion_matrix(test_y,prediction_SDG))"
   ]
  },
  {
   "cell_type": "markdown",
   "metadata": {},
   "source": [
    "# Now Using GridSearchCV for finding the best model with the best hyperparameters"
   ]
  },
  {
   "cell_type": "code",
   "execution_count": 103,
   "metadata": {},
   "outputs": [],
   "source": [
    "param_grid_SDG = {'alpha': [10 ** x for x in range(-6, 1)],\n",
    "    'l1_ratio': [0, 0.05, 0.1, 0.2, 0.5, 0.8, 0.9, 0.95, 1],}"
   ]
  },
  {
   "cell_type": "code",
   "execution_count": 104,
   "metadata": {},
   "outputs": [],
   "source": [
    "#Creating Parameter Grid\n",
    "grid_SDG = GridSearchCV(estimator=SGD, param_grid=param_grid_SDG,\n",
    "                                    n_jobs=-1, scoring='roc_auc')"
   ]
  },
  {
   "cell_type": "code",
   "execution_count": 105,
   "metadata": {},
   "outputs": [
    {
     "data": {
      "text/plain": [
       "GridSearchCV(estimator=SGDClassifier(class_weight='balanced', random_state=0),\n",
       "             n_jobs=-1,\n",
       "             param_grid={'alpha': [1e-06, 1e-05, 0.0001, 0.001, 0.01, 0.1, 1],\n",
       "                         'l1_ratio': [0, 0.05, 0.1, 0.2, 0.5, 0.8, 0.9, 0.95,\n",
       "                                      1]},\n",
       "             scoring='roc_auc')"
      ]
     },
     "execution_count": 105,
     "metadata": {},
     "output_type": "execute_result"
    }
   ],
   "source": [
    "#Running gridSearchVC\n",
    "grid_SDG.fit(train_X,train_y)"
   ]
  },
  {
   "cell_type": "code",
   "execution_count": 106,
   "metadata": {},
   "outputs": [
    {
     "data": {
      "text/plain": [
       "{'alpha': 1e-06, 'l1_ratio': 0}"
      ]
     },
     "execution_count": 106,
     "metadata": {},
     "output_type": "execute_result"
    }
   ],
   "source": [
    "grid_SDG.best_params_  # Parameter setting that gave the best results"
   ]
  },
  {
   "cell_type": "code",
   "execution_count": 107,
   "metadata": {},
   "outputs": [
    {
     "data": {
      "text/plain": [
       "SGDClassifier(alpha=1e-06, class_weight='balanced', l1_ratio=0, random_state=0)"
      ]
     },
     "execution_count": 107,
     "metadata": {},
     "output_type": "execute_result"
    }
   ],
   "source": [
    "grid_SDG.best_estimator_  # Best hyperparameter accuracy for the algorithm algorithm"
   ]
  },
  {
   "cell_type": "code",
   "execution_count": 108,
   "metadata": {},
   "outputs": [],
   "source": [
    "grid_prediction_SDG = grid_SDG.predict(test_X)"
   ]
  },
  {
   "cell_type": "code",
   "execution_count": 109,
   "metadata": {},
   "outputs": [
    {
     "name": "stdout",
     "output_type": "stream",
     "text": [
      "[[ 91  12]\n",
      " [171  33]] \n",
      " with accuracy  0.5631803672843345\n"
     ]
    }
   ],
   "source": [
    "print(confusion_matrix(test_y,grid_prediction_SDG),'\\n with accuracy ',grid_SDG.best_score_)"
   ]
  },
  {
   "cell_type": "code",
   "execution_count": null,
   "metadata": {},
   "outputs": [],
   "source": []
  }
 ],
 "metadata": {
  "kernelspec": {
   "display_name": "Python 3",
   "language": "python",
   "name": "python3"
  },
  "language_info": {
   "codemirror_mode": {
    "name": "ipython",
    "version": 3
   },
   "file_extension": ".py",
   "mimetype": "text/x-python",
   "name": "python",
   "nbconvert_exporter": "python",
   "pygments_lexer": "ipython3",
   "version": "3.8.5"
  }
 },
 "nbformat": 4,
 "nbformat_minor": 4
}
